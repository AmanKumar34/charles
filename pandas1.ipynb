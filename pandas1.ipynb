{
 "cells": [
  {
   "cell_type": "code",
   "execution_count": 2,
   "id": "3629a5ac-2d03-45cd-b50e-d1b0e27db971",
   "metadata": {},
   "outputs": [],
   "source": [
    "import numpy as np\n",
    "import pandas as pd"
   ]
  },
  {
   "cell_type": "code",
   "execution_count": 2,
   "id": "bc93f00d-44e7-4726-aeda-0b7291363bd1",
   "metadata": {},
   "outputs": [
    {
     "name": "stdout",
     "output_type": "stream",
     "text": [
      "{'name': ['aman', 'rohan', 'harryy', 'raj'], 'marks': [92, 34, 24, 17], 'city': ['hisua', 'bareily', 'nawada', 'london']}\n"
     ]
    }
   ],
   "source": [
    "dict = {\n",
    "    \"name\":[\"aman\",\"rohan\",\"harryy\",\"raj\"],\n",
    "    \"marks\":[92,34,24,17],\n",
    "    \"city\":[\"hisua\",\"bareily\",\"nawada\",\"london\"]}\n",
    "print(dict)"
   ]
  },
  {
   "cell_type": "code",
   "execution_count": 3,
   "id": "cb0b4530-ed34-463b-9140-cfed0b4730b0",
   "metadata": {},
   "outputs": [],
   "source": [
    "df =pd.DataFrame(dict)"
   ]
  },
  {
   "cell_type": "code",
   "execution_count": 4,
   "id": "21a12112-1d7a-4d27-b946-f1d7f5d5eba6",
   "metadata": {},
   "outputs": [
    {
     "data": {
      "text/html": [
       "<div>\n",
       "<style scoped>\n",
       "    .dataframe tbody tr th:only-of-type {\n",
       "        vertical-align: middle;\n",
       "    }\n",
       "\n",
       "    .dataframe tbody tr th {\n",
       "        vertical-align: top;\n",
       "    }\n",
       "\n",
       "    .dataframe thead th {\n",
       "        text-align: right;\n",
       "    }\n",
       "</style>\n",
       "<table border=\"1\" class=\"dataframe\">\n",
       "  <thead>\n",
       "    <tr style=\"text-align: right;\">\n",
       "      <th></th>\n",
       "      <th>name</th>\n",
       "      <th>marks</th>\n",
       "      <th>city</th>\n",
       "    </tr>\n",
       "  </thead>\n",
       "  <tbody>\n",
       "    <tr>\n",
       "      <th>0</th>\n",
       "      <td>aman</td>\n",
       "      <td>92</td>\n",
       "      <td>hisua</td>\n",
       "    </tr>\n",
       "    <tr>\n",
       "      <th>1</th>\n",
       "      <td>rohan</td>\n",
       "      <td>34</td>\n",
       "      <td>bareily</td>\n",
       "    </tr>\n",
       "    <tr>\n",
       "      <th>2</th>\n",
       "      <td>harryy</td>\n",
       "      <td>24</td>\n",
       "      <td>nawada</td>\n",
       "    </tr>\n",
       "    <tr>\n",
       "      <th>3</th>\n",
       "      <td>raj</td>\n",
       "      <td>17</td>\n",
       "      <td>london</td>\n",
       "    </tr>\n",
       "  </tbody>\n",
       "</table>\n",
       "</div>"
      ],
      "text/plain": [
       "     name  marks     city\n",
       "0    aman     92    hisua\n",
       "1   rohan     34  bareily\n",
       "2  harryy     24   nawada\n",
       "3     raj     17   london"
      ]
     },
     "execution_count": 4,
     "metadata": {},
     "output_type": "execute_result"
    }
   ],
   "source": [
    "df"
   ]
  },
  {
   "cell_type": "code",
   "execution_count": 5,
   "id": "2cb0b8ae-db41-49e9-94e5-f7a4e14ac49d",
   "metadata": {},
   "outputs": [],
   "source": [
    "df.to_csv('friend.csv')"
   ]
  },
  {
   "cell_type": "code",
   "execution_count": 6,
   "id": "5cf6f6da-269c-4346-9817-fedc27e722bf",
   "metadata": {},
   "outputs": [
    {
     "data": {
      "text/plain": [
       "(4, 3)"
      ]
     },
     "execution_count": 6,
     "metadata": {},
     "output_type": "execute_result"
    }
   ],
   "source": [
    "df.shape"
   ]
  },
  {
   "cell_type": "code",
   "execution_count": 7,
   "id": "69ed1a45-7c53-4839-8e1b-616e918d1ced",
   "metadata": {},
   "outputs": [
    {
     "data": {
      "text/plain": [
       "<pandas.core.indexing._iLocIndexer at 0x24df7d84d70>"
      ]
     },
     "execution_count": 7,
     "metadata": {},
     "output_type": "execute_result"
    }
   ],
   "source": [
    "df.iloc"
   ]
  },
  {
   "cell_type": "code",
   "execution_count": 8,
   "id": "4a809e71-4877-4321-99b3-65148c1723fd",
   "metadata": {},
   "outputs": [],
   "source": [
    "df.to_csv('friend1.csv', index = False)"
   ]
  },
  {
   "cell_type": "code",
   "execution_count": 9,
   "id": "28b4dcc2-c9c3-4458-a474-eeb99093fce5",
   "metadata": {},
   "outputs": [
    {
     "data": {
      "text/html": [
       "<div>\n",
       "<style scoped>\n",
       "    .dataframe tbody tr th:only-of-type {\n",
       "        vertical-align: middle;\n",
       "    }\n",
       "\n",
       "    .dataframe tbody tr th {\n",
       "        vertical-align: top;\n",
       "    }\n",
       "\n",
       "    .dataframe thead th {\n",
       "        text-align: right;\n",
       "    }\n",
       "</style>\n",
       "<table border=\"1\" class=\"dataframe\">\n",
       "  <thead>\n",
       "    <tr style=\"text-align: right;\">\n",
       "      <th></th>\n",
       "      <th>name</th>\n",
       "      <th>marks</th>\n",
       "      <th>city</th>\n",
       "    </tr>\n",
       "  </thead>\n",
       "  <tbody>\n",
       "    <tr>\n",
       "      <th>0</th>\n",
       "      <td>aman</td>\n",
       "      <td>92</td>\n",
       "      <td>hisua</td>\n",
       "    </tr>\n",
       "  </tbody>\n",
       "</table>\n",
       "</div>"
      ],
      "text/plain": [
       "   name  marks   city\n",
       "0  aman     92  hisua"
      ]
     },
     "execution_count": 9,
     "metadata": {},
     "output_type": "execute_result"
    }
   ],
   "source": [
    "df.head(1)"
   ]
  },
  {
   "cell_type": "code",
   "execution_count": 10,
   "id": "4685a398-f8eb-4bb8-8098-5ca095fcdb07",
   "metadata": {},
   "outputs": [
    {
     "data": {
      "text/html": [
       "<div>\n",
       "<style scoped>\n",
       "    .dataframe tbody tr th:only-of-type {\n",
       "        vertical-align: middle;\n",
       "    }\n",
       "\n",
       "    .dataframe tbody tr th {\n",
       "        vertical-align: top;\n",
       "    }\n",
       "\n",
       "    .dataframe thead th {\n",
       "        text-align: right;\n",
       "    }\n",
       "</style>\n",
       "<table border=\"1\" class=\"dataframe\">\n",
       "  <thead>\n",
       "    <tr style=\"text-align: right;\">\n",
       "      <th></th>\n",
       "      <th>name</th>\n",
       "      <th>marks</th>\n",
       "      <th>city</th>\n",
       "    </tr>\n",
       "  </thead>\n",
       "  <tbody>\n",
       "    <tr>\n",
       "      <th>2</th>\n",
       "      <td>harryy</td>\n",
       "      <td>24</td>\n",
       "      <td>nawada</td>\n",
       "    </tr>\n",
       "    <tr>\n",
       "      <th>3</th>\n",
       "      <td>raj</td>\n",
       "      <td>17</td>\n",
       "      <td>london</td>\n",
       "    </tr>\n",
       "  </tbody>\n",
       "</table>\n",
       "</div>"
      ],
      "text/plain": [
       "     name  marks    city\n",
       "2  harryy     24  nawada\n",
       "3     raj     17  london"
      ]
     },
     "execution_count": 10,
     "metadata": {},
     "output_type": "execute_result"
    }
   ],
   "source": [
    "df.tail(2)"
   ]
  },
  {
   "cell_type": "code",
   "execution_count": null,
   "id": "929edee5-236f-456a-83bc-1c1092a83cc1",
   "metadata": {},
   "outputs": [
    {
     "data": {
      "text/html": [
       "<div>\n",
       "<style scoped>\n",
       "    .dataframe tbody tr th:only-of-type {\n",
       "        vertical-align: middle;\n",
       "    }\n",
       "\n",
       "    .dataframe tbody tr th {\n",
       "        vertical-align: top;\n",
       "    }\n",
       "\n",
       "    .dataframe thead th {\n",
       "        text-align: right;\n",
       "    }\n",
       "</style>\n",
       "<table border=\"1\" class=\"dataframe\">\n",
       "  <thead>\n",
       "    <tr style=\"text-align: right;\">\n",
       "      <th></th>\n",
       "      <th>marks</th>\n",
       "    </tr>\n",
       "  </thead>\n",
       "  <tbody>\n",
       "    <tr>\n",
       "      <th>count</th>\n",
       "      <td>4.00000</td>\n",
       "    </tr>\n",
       "    <tr>\n",
       "      <th>mean</th>\n",
       "      <td>41.75000</td>\n",
       "    </tr>\n",
       "    <tr>\n",
       "      <th>std</th>\n",
       "      <td>34.21866</td>\n",
       "    </tr>\n",
       "    <tr>\n",
       "      <th>min</th>\n",
       "      <td>17.00000</td>\n",
       "    </tr>\n",
       "    <tr>\n",
       "      <th>25%</th>\n",
       "      <td>22.25000</td>\n",
       "    </tr>\n",
       "    <tr>\n",
       "      <th>50%</th>\n",
       "      <td>29.00000</td>\n",
       "    </tr>\n",
       "    <tr>\n",
       "      <th>75%</th>\n",
       "      <td>48.50000</td>\n",
       "    </tr>\n",
       "    <tr>\n",
       "      <th>max</th>\n",
       "      <td>92.00000</td>\n",
       "    </tr>\n",
       "  </tbody>\n",
       "</table>\n",
       "</div>"
      ],
      "text/plain": [
       "          marks\n",
       "count   4.00000\n",
       "mean   41.75000\n",
       "std    34.21866\n",
       "min    17.00000\n",
       "25%    22.25000\n",
       "50%    29.00000\n",
       "75%    48.50000\n",
       "max    92.00000"
      ]
     },
     "execution_count": 11,
     "metadata": {},
     "output_type": "execute_result"
    }
   ],
   "source": [
    "df.describe()\n",
    "\n"
   ]
  },
  {
   "cell_type": "code",
   "execution_count": 12,
   "id": "8998066a-5db4-47ee-8ba0-f62425472bbd",
   "metadata": {},
   "outputs": [],
   "source": [
    "harry = pd.read_csv(\"C:/Users/amanp/OneDrive/Documents/jj.csv\")"
   ]
  },
  {
   "cell_type": "raw",
   "id": "2b9411c4-180b-4c79-bbe8-145e75e3c270",
   "metadata": {},
   "source": []
  },
  {
   "cell_type": "code",
   "execution_count": 13,
   "id": "9a300a44-0b59-409b-8106-9b6ef0cf43fa",
   "metadata": {},
   "outputs": [
    {
     "name": "stderr",
     "output_type": "stream",
     "text": [
      "C:\\Users\\amanp\\AppData\\Local\\Temp\\ipykernel_92612\\2420985761.py:1: FutureWarning: ChainedAssignmentError: behaviour will change in pandas 3.0!\n",
      "You are setting values through chained assignment. Currently this works in certain cases, but when using Copy-on-Write (which will become the default behaviour in pandas 3.0) this will never work to update the original DataFrame or Series, because the intermediate object on which we are setting values will behave as a copy.\n",
      "A typical example is when you are setting values in a column of a DataFrame, like:\n",
      "\n",
      "df[\"col\"][row_indexer] = value\n",
      "\n",
      "Use `df.loc[row_indexer, \"col\"] = values` instead, to perform the assignment in a single step and ensure this keeps updating the original `df`.\n",
      "\n",
      "See the caveats in the documentation: https://pandas.pydata.org/pandas-docs/stable/user_guide/indexing.html#returning-a-view-versus-a-copy\n",
      "\n",
      "  harry['Amount'][3]= 3453\n",
      "C:\\Users\\amanp\\AppData\\Local\\Temp\\ipykernel_92612\\2420985761.py:1: SettingWithCopyWarning: \n",
      "A value is trying to be set on a copy of a slice from a DataFrame\n",
      "\n",
      "See the caveats in the documentation: https://pandas.pydata.org/pandas-docs/stable/user_guide/indexing.html#returning-a-view-versus-a-copy\n",
      "  harry['Amount'][3]= 3453\n"
     ]
    }
   ],
   "source": [
    "harry['Amount'][3]= 3453"
   ]
  },
  {
   "cell_type": "code",
   "execution_count": null,
   "id": "4767ed4e-56a6-4740-ae87-b257629de480",
   "metadata": {},
   "outputs": [],
   "source": []
  },
  {
   "cell_type": "code",
   "execution_count": 14,
   "id": "2b248607-24e3-4be7-904c-df938810ec7b",
   "metadata": {},
   "outputs": [],
   "source": [
    "harry.to_csv(\"harry.csv\")"
   ]
  },
  {
   "cell_type": "code",
   "execution_count": 15,
   "id": "6d6229bd-334c-4b8c-9b69-c84bcb48d128",
   "metadata": {},
   "outputs": [],
   "source": [
    "harry.index = [1,2,3,4,5,6,7,8,9,10,11,12,13,14,15,16,17,18,19,20,21,22,23,24,25,26,27,28,29,30,31,32,33,34,35,36,37,38,39,40,41,42,43,44,45,46,47,48,49,50]"
   ]
  },
  {
   "cell_type": "code",
   "execution_count": 16,
   "id": "6d6eea95-3342-4b8d-8594-047d37e99c76",
   "metadata": {},
   "outputs": [],
   "source": [
    "pan1 = pd.read_excel(\"C:/Users/amanp/Downloads/Aman_Grocery_Transactions.xlsx\")"
   ]
  },
  {
   "cell_type": "code",
   "execution_count": 15,
   "id": "e3a72156-20fd-4b14-8346-62e354120487",
   "metadata": {},
   "outputs": [
    {
     "data": {
      "text/plain": [
       "0    0.653012\n",
       "1    0.091002\n",
       "2    0.481083\n",
       "3    0.808646\n",
       "4    0.666524\n",
       "dtype: float64"
      ]
     },
     "execution_count": 15,
     "metadata": {},
     "output_type": "execute_result"
    }
   ],
   "source": [
    "SER = pd.Series(np.random.rand(20 ) , index = np.arange(20))\n",
    "SER.head()"
   ]
  },
  {
   "cell_type": "code",
   "execution_count": 11,
   "id": "29b7d13a-2801-424d-9d83-aeb9aae980c6",
   "metadata": {},
   "outputs": [
    {
     "data": {
      "text/html": [
       "<div>\n",
       "<style scoped>\n",
       "    .dataframe tbody tr th:only-of-type {\n",
       "        vertical-align: middle;\n",
       "    }\n",
       "\n",
       "    .dataframe tbody tr th {\n",
       "        vertical-align: top;\n",
       "    }\n",
       "\n",
       "    .dataframe thead th {\n",
       "        text-align: right;\n",
       "    }\n",
       "</style>\n",
       "<table border=\"1\" class=\"dataframe\">\n",
       "  <thead>\n",
       "    <tr style=\"text-align: right;\">\n",
       "      <th></th>\n",
       "      <th>0</th>\n",
       "      <th>1</th>\n",
       "      <th>2</th>\n",
       "      <th>3</th>\n",
       "    </tr>\n",
       "  </thead>\n",
       "  <tbody>\n",
       "    <tr>\n",
       "      <th>0</th>\n",
       "      <td>0.398428</td>\n",
       "      <td>0.842675</td>\n",
       "      <td>0.491726</td>\n",
       "      <td>0.368581</td>\n",
       "    </tr>\n",
       "    <tr>\n",
       "      <th>1</th>\n",
       "      <td>0.226257</td>\n",
       "      <td>0.682270</td>\n",
       "      <td>0.920819</td>\n",
       "      <td>0.887805</td>\n",
       "    </tr>\n",
       "    <tr>\n",
       "      <th>2</th>\n",
       "      <td>0.532472</td>\n",
       "      <td>0.065927</td>\n",
       "      <td>0.121960</td>\n",
       "      <td>0.478193</td>\n",
       "    </tr>\n",
       "    <tr>\n",
       "      <th>3</th>\n",
       "      <td>0.940064</td>\n",
       "      <td>0.507710</td>\n",
       "      <td>0.846506</td>\n",
       "      <td>0.809397</td>\n",
       "    </tr>\n",
       "    <tr>\n",
       "      <th>4</th>\n",
       "      <td>0.859183</td>\n",
       "      <td>0.861825</td>\n",
       "      <td>0.084745</td>\n",
       "      <td>0.495624</td>\n",
       "    </tr>\n",
       "    <tr>\n",
       "      <th>5</th>\n",
       "      <td>0.061871</td>\n",
       "      <td>0.228202</td>\n",
       "      <td>0.875982</td>\n",
       "      <td>0.704895</td>\n",
       "    </tr>\n",
       "    <tr>\n",
       "      <th>6</th>\n",
       "      <td>0.114308</td>\n",
       "      <td>0.812742</td>\n",
       "      <td>0.207250</td>\n",
       "      <td>0.142398</td>\n",
       "    </tr>\n",
       "    <tr>\n",
       "      <th>7</th>\n",
       "      <td>0.829447</td>\n",
       "      <td>0.245147</td>\n",
       "      <td>0.378683</td>\n",
       "      <td>0.520431</td>\n",
       "    </tr>\n",
       "    <tr>\n",
       "      <th>8</th>\n",
       "      <td>0.988607</td>\n",
       "      <td>0.197249</td>\n",
       "      <td>0.599116</td>\n",
       "      <td>0.443168</td>\n",
       "    </tr>\n",
       "    <tr>\n",
       "      <th>9</th>\n",
       "      <td>0.203447</td>\n",
       "      <td>0.022771</td>\n",
       "      <td>0.138566</td>\n",
       "      <td>0.499878</td>\n",
       "    </tr>\n",
       "  </tbody>\n",
       "</table>\n",
       "</div>"
      ],
      "text/plain": [
       "          0         1         2         3\n",
       "0  0.398428  0.842675  0.491726  0.368581\n",
       "1  0.226257  0.682270  0.920819  0.887805\n",
       "2  0.532472  0.065927  0.121960  0.478193\n",
       "3  0.940064  0.507710  0.846506  0.809397\n",
       "4  0.859183  0.861825  0.084745  0.495624\n",
       "5  0.061871  0.228202  0.875982  0.704895\n",
       "6  0.114308  0.812742  0.207250  0.142398\n",
       "7  0.829447  0.245147  0.378683  0.520431\n",
       "8  0.988607  0.197249  0.599116  0.443168\n",
       "9  0.203447  0.022771  0.138566  0.499878"
      ]
     },
     "execution_count": 11,
     "metadata": {},
     "output_type": "execute_result"
    }
   ],
   "source": [
    "df1= pd.DataFrame(np.random.rand(10,4), index = np.arange(10))\n",
    "df1"
   ]
  },
  {
   "cell_type": "code",
   "execution_count": 19,
   "id": "0689fd58-8d0f-4bcd-b252-83f6322415d2",
   "metadata": {},
   "outputs": [
    {
     "data": {
      "text/plain": [
       "pandas.core.frame.DataFrame"
      ]
     },
     "execution_count": 19,
     "metadata": {},
     "output_type": "execute_result"
    }
   ],
   "source": [
    "type(df1)"
   ]
  },
  {
   "cell_type": "code",
   "execution_count": 20,
   "id": "4baea4aa-b1d7-4e50-bda0-d70f4a526cc4",
   "metadata": {},
   "outputs": [
    {
     "data": {
      "text/plain": [
       "<bound method NDFrame.describe of           0         1         2         3\n",
       "0  0.608428  0.942188  0.453771  0.987583\n",
       "1  0.575217  0.102660  0.239723  0.677257\n",
       "2  0.570574  0.582973  0.911643  0.866714\n",
       "3  0.875290  0.709307  0.726065  0.590644\n",
       "4  0.799680  0.416390  0.776483  0.708007\n",
       "5  0.522116  0.511947  0.435796  0.334733\n",
       "6  0.117037  0.848875  0.146866  0.175809\n",
       "7  0.737322  0.472319  0.646639  0.480763\n",
       "8  0.004160  0.174511  0.503709  0.460213\n",
       "9  0.030499  0.857187  0.234421  0.411234>"
      ]
     },
     "execution_count": 20,
     "metadata": {},
     "output_type": "execute_result"
    }
   ],
   "source": [
    "df1.describe"
   ]
  },
  {
   "cell_type": "code",
   "execution_count": 21,
   "id": "96819274-37b5-4370-9d02-6833d1ad0914",
   "metadata": {},
   "outputs": [
    {
     "name": "stderr",
     "output_type": "stream",
     "text": [
      "C:\\Users\\amanp\\AppData\\Local\\Temp\\ipykernel_92612\\3738566526.py:1: FutureWarning: ChainedAssignmentError: behaviour will change in pandas 3.0!\n",
      "You are setting values through chained assignment. Currently this works in certain cases, but when using Copy-on-Write (which will become the default behaviour in pandas 3.0) this will never work to update the original DataFrame or Series, because the intermediate object on which we are setting values will behave as a copy.\n",
      "A typical example is when you are setting values in a column of a DataFrame, like:\n",
      "\n",
      "df[\"col\"][row_indexer] = value\n",
      "\n",
      "Use `df.loc[row_indexer, \"col\"] = values` instead, to perform the assignment in a single step and ensure this keeps updating the original `df`.\n",
      "\n",
      "See the caveats in the documentation: https://pandas.pydata.org/pandas-docs/stable/user_guide/indexing.html#returning-a-view-versus-a-copy\n",
      "\n",
      "  df1[0][0] = 234\n"
     ]
    }
   ],
   "source": [
    "df1[0][0] = 234"
   ]
  },
  {
   "cell_type": "code",
   "execution_count": null,
   "id": "8e127115-ff87-4fea-bc1f-65f817a481ee",
   "metadata": {},
   "outputs": [],
   "source": []
  },
  {
   "cell_type": "code",
   "execution_count": 22,
   "id": "6fde6f76-794a-4e43-b986-6355ae353fdc",
   "metadata": {},
   "outputs": [
    {
     "data": {
      "text/plain": [
       "Index([0, 1, 2, 3, 4, 5, 6, 7, 8, 9], dtype='int32')"
      ]
     },
     "execution_count": 22,
     "metadata": {},
     "output_type": "execute_result"
    }
   ],
   "source": [
    "df1.index "
   ]
  },
  {
   "cell_type": "code",
   "execution_count": 23,
   "id": "8efe424e-5e6c-4bb7-b3c3-9dd327407d70",
   "metadata": {},
   "outputs": [
    {
     "data": {
      "text/plain": [
       "RangeIndex(start=0, stop=4, step=1)"
      ]
     },
     "execution_count": 23,
     "metadata": {},
     "output_type": "execute_result"
    }
   ],
   "source": [
    "df1.columns"
   ]
  },
  {
   "cell_type": "code",
   "execution_count": 24,
   "id": "418b3880-7b00-42e4-8db1-08b0e6a1253c",
   "metadata": {},
   "outputs": [
    {
     "data": {
      "text/plain": [
       "array([[2.34000000e+02, 9.42187935e-01, 4.53770609e-01, 9.87582779e-01],\n",
       "       [5.75216820e-01, 1.02660118e-01, 2.39722533e-01, 6.77257335e-01],\n",
       "       [5.70574105e-01, 5.82972945e-01, 9.11642570e-01, 8.66714472e-01],\n",
       "       [8.75289597e-01, 7.09306950e-01, 7.26065488e-01, 5.90643857e-01],\n",
       "       [7.99679938e-01, 4.16389712e-01, 7.76482848e-01, 7.08006759e-01],\n",
       "       [5.22116393e-01, 5.11946533e-01, 4.35796441e-01, 3.34732718e-01],\n",
       "       [1.17036957e-01, 8.48874870e-01, 1.46866359e-01, 1.75809118e-01],\n",
       "       [7.37322407e-01, 4.72319000e-01, 6.46639452e-01, 4.80763414e-01],\n",
       "       [4.15962851e-03, 1.74511389e-01, 5.03708962e-01, 4.60213118e-01],\n",
       "       [3.04989943e-02, 8.57187176e-01, 2.34420788e-01, 4.11234112e-01]])"
      ]
     },
     "execution_count": 24,
     "metadata": {},
     "output_type": "execute_result"
    }
   ],
   "source": [
    "df1.to_numpy()"
   ]
  },
  {
   "cell_type": "code",
   "execution_count": null,
   "id": "2281ec09-5ffe-4ca2-af31-2eabd53c2642",
   "metadata": {},
   "outputs": [],
   "source": []
  },
  {
   "cell_type": "code",
   "execution_count": 25,
   "id": "f0692b15-bf21-490f-a3c2-505b0e4776cc",
   "metadata": {},
   "outputs": [
    {
     "data": {
      "text/html": [
       "<div>\n",
       "<style scoped>\n",
       "    .dataframe tbody tr th:only-of-type {\n",
       "        vertical-align: middle;\n",
       "    }\n",
       "\n",
       "    .dataframe tbody tr th {\n",
       "        vertical-align: top;\n",
       "    }\n",
       "\n",
       "    .dataframe thead th {\n",
       "        text-align: right;\n",
       "    }\n",
       "</style>\n",
       "<table border=\"1\" class=\"dataframe\">\n",
       "  <thead>\n",
       "    <tr style=\"text-align: right;\">\n",
       "      <th></th>\n",
       "      <th>0</th>\n",
       "      <th>1</th>\n",
       "      <th>2</th>\n",
       "      <th>3</th>\n",
       "      <th>4</th>\n",
       "      <th>5</th>\n",
       "      <th>6</th>\n",
       "      <th>7</th>\n",
       "      <th>8</th>\n",
       "      <th>9</th>\n",
       "    </tr>\n",
       "  </thead>\n",
       "  <tbody>\n",
       "    <tr>\n",
       "      <th>0</th>\n",
       "      <td>234.000000</td>\n",
       "      <td>0.575217</td>\n",
       "      <td>0.570574</td>\n",
       "      <td>0.875290</td>\n",
       "      <td>0.799680</td>\n",
       "      <td>0.522116</td>\n",
       "      <td>0.117037</td>\n",
       "      <td>0.737322</td>\n",
       "      <td>0.004160</td>\n",
       "      <td>0.030499</td>\n",
       "    </tr>\n",
       "    <tr>\n",
       "      <th>1</th>\n",
       "      <td>0.942188</td>\n",
       "      <td>0.102660</td>\n",
       "      <td>0.582973</td>\n",
       "      <td>0.709307</td>\n",
       "      <td>0.416390</td>\n",
       "      <td>0.511947</td>\n",
       "      <td>0.848875</td>\n",
       "      <td>0.472319</td>\n",
       "      <td>0.174511</td>\n",
       "      <td>0.857187</td>\n",
       "    </tr>\n",
       "    <tr>\n",
       "      <th>2</th>\n",
       "      <td>0.453771</td>\n",
       "      <td>0.239723</td>\n",
       "      <td>0.911643</td>\n",
       "      <td>0.726065</td>\n",
       "      <td>0.776483</td>\n",
       "      <td>0.435796</td>\n",
       "      <td>0.146866</td>\n",
       "      <td>0.646639</td>\n",
       "      <td>0.503709</td>\n",
       "      <td>0.234421</td>\n",
       "    </tr>\n",
       "    <tr>\n",
       "      <th>3</th>\n",
       "      <td>0.987583</td>\n",
       "      <td>0.677257</td>\n",
       "      <td>0.866714</td>\n",
       "      <td>0.590644</td>\n",
       "      <td>0.708007</td>\n",
       "      <td>0.334733</td>\n",
       "      <td>0.175809</td>\n",
       "      <td>0.480763</td>\n",
       "      <td>0.460213</td>\n",
       "      <td>0.411234</td>\n",
       "    </tr>\n",
       "  </tbody>\n",
       "</table>\n",
       "</div>"
      ],
      "text/plain": [
       "            0         1         2         3         4         5         6  \\\n",
       "0  234.000000  0.575217  0.570574  0.875290  0.799680  0.522116  0.117037   \n",
       "1    0.942188  0.102660  0.582973  0.709307  0.416390  0.511947  0.848875   \n",
       "2    0.453771  0.239723  0.911643  0.726065  0.776483  0.435796  0.146866   \n",
       "3    0.987583  0.677257  0.866714  0.590644  0.708007  0.334733  0.175809   \n",
       "\n",
       "          7         8         9  \n",
       "0  0.737322  0.004160  0.030499  \n",
       "1  0.472319  0.174511  0.857187  \n",
       "2  0.646639  0.503709  0.234421  \n",
       "3  0.480763  0.460213  0.411234  "
      ]
     },
     "execution_count": 25,
     "metadata": {},
     "output_type": "execute_result"
    }
   ],
   "source": [
    "df1.T"
   ]
  },
  {
   "cell_type": "code",
   "execution_count": 26,
   "id": "c0132faf-5476-4808-bfd5-a3db8626b76e",
   "metadata": {},
   "outputs": [
    {
     "data": {
      "text/plain": [
       "<pandas.core.indexing._LocIndexer at 0x24dfa98b160>"
      ]
     },
     "execution_count": 26,
     "metadata": {},
     "output_type": "execute_result"
    }
   ],
   "source": [
    "df1.loc"
   ]
  },
  {
   "cell_type": "code",
   "execution_count": 27,
   "id": "69634a1c-0bda-4b44-8ca7-f93aed86f1e2",
   "metadata": {},
   "outputs": [],
   "source": [
    "df1.loc [0,0] = 654"
   ]
  },
  {
   "cell_type": "code",
   "execution_count": 28,
   "id": "29479f9c-158f-49cb-ac8a-8325d0d73f87",
   "metadata": {},
   "outputs": [
    {
     "data": {
      "text/html": [
       "<div>\n",
       "<style scoped>\n",
       "    .dataframe tbody tr th:only-of-type {\n",
       "        vertical-align: middle;\n",
       "    }\n",
       "\n",
       "    .dataframe tbody tr th {\n",
       "        vertical-align: top;\n",
       "    }\n",
       "\n",
       "    .dataframe thead th {\n",
       "        text-align: right;\n",
       "    }\n",
       "</style>\n",
       "<table border=\"1\" class=\"dataframe\">\n",
       "  <thead>\n",
       "    <tr style=\"text-align: right;\">\n",
       "      <th></th>\n",
       "      <th>0</th>\n",
       "      <th>1</th>\n",
       "      <th>2</th>\n",
       "      <th>3</th>\n",
       "    </tr>\n",
       "  </thead>\n",
       "  <tbody>\n",
       "    <tr>\n",
       "      <th>0</th>\n",
       "      <td>654.000000</td>\n",
       "      <td>0.942188</td>\n",
       "      <td>0.453771</td>\n",
       "      <td>0.987583</td>\n",
       "    </tr>\n",
       "    <tr>\n",
       "      <th>1</th>\n",
       "      <td>0.575217</td>\n",
       "      <td>0.102660</td>\n",
       "      <td>0.239723</td>\n",
       "      <td>0.677257</td>\n",
       "    </tr>\n",
       "    <tr>\n",
       "      <th>2</th>\n",
       "      <td>0.570574</td>\n",
       "      <td>0.582973</td>\n",
       "      <td>0.911643</td>\n",
       "      <td>0.866714</td>\n",
       "    </tr>\n",
       "    <tr>\n",
       "      <th>3</th>\n",
       "      <td>0.875290</td>\n",
       "      <td>0.709307</td>\n",
       "      <td>0.726065</td>\n",
       "      <td>0.590644</td>\n",
       "    </tr>\n",
       "    <tr>\n",
       "      <th>4</th>\n",
       "      <td>0.799680</td>\n",
       "      <td>0.416390</td>\n",
       "      <td>0.776483</td>\n",
       "      <td>0.708007</td>\n",
       "    </tr>\n",
       "    <tr>\n",
       "      <th>5</th>\n",
       "      <td>0.522116</td>\n",
       "      <td>0.511947</td>\n",
       "      <td>0.435796</td>\n",
       "      <td>0.334733</td>\n",
       "    </tr>\n",
       "    <tr>\n",
       "      <th>6</th>\n",
       "      <td>0.117037</td>\n",
       "      <td>0.848875</td>\n",
       "      <td>0.146866</td>\n",
       "      <td>0.175809</td>\n",
       "    </tr>\n",
       "    <tr>\n",
       "      <th>7</th>\n",
       "      <td>0.737322</td>\n",
       "      <td>0.472319</td>\n",
       "      <td>0.646639</td>\n",
       "      <td>0.480763</td>\n",
       "    </tr>\n",
       "    <tr>\n",
       "      <th>8</th>\n",
       "      <td>0.004160</td>\n",
       "      <td>0.174511</td>\n",
       "      <td>0.503709</td>\n",
       "      <td>0.460213</td>\n",
       "    </tr>\n",
       "    <tr>\n",
       "      <th>9</th>\n",
       "      <td>0.030499</td>\n",
       "      <td>0.857187</td>\n",
       "      <td>0.234421</td>\n",
       "      <td>0.411234</td>\n",
       "    </tr>\n",
       "  </tbody>\n",
       "</table>\n",
       "</div>"
      ],
      "text/plain": [
       "            0         1         2         3\n",
       "0  654.000000  0.942188  0.453771  0.987583\n",
       "1    0.575217  0.102660  0.239723  0.677257\n",
       "2    0.570574  0.582973  0.911643  0.866714\n",
       "3    0.875290  0.709307  0.726065  0.590644\n",
       "4    0.799680  0.416390  0.776483  0.708007\n",
       "5    0.522116  0.511947  0.435796  0.334733\n",
       "6    0.117037  0.848875  0.146866  0.175809\n",
       "7    0.737322  0.472319  0.646639  0.480763\n",
       "8    0.004160  0.174511  0.503709  0.460213\n",
       "9    0.030499  0.857187  0.234421  0.411234"
      ]
     },
     "execution_count": 28,
     "metadata": {},
     "output_type": "execute_result"
    }
   ],
   "source": [
    "df1"
   ]
  },
  {
   "cell_type": "code",
   "execution_count": 29,
   "id": "5aa7c72e-a8ab-4a06-b692-a9e687ab8185",
   "metadata": {},
   "outputs": [
    {
     "data": {
      "text/html": [
       "<div>\n",
       "<style scoped>\n",
       "    .dataframe tbody tr th:only-of-type {\n",
       "        vertical-align: middle;\n",
       "    }\n",
       "\n",
       "    .dataframe tbody tr th {\n",
       "        vertical-align: top;\n",
       "    }\n",
       "\n",
       "    .dataframe thead th {\n",
       "        text-align: right;\n",
       "    }\n",
       "</style>\n",
       "<table border=\"1\" class=\"dataframe\">\n",
       "  <thead>\n",
       "    <tr style=\"text-align: right;\">\n",
       "      <th></th>\n",
       "      <th>0</th>\n",
       "      <th>1</th>\n",
       "      <th>2</th>\n",
       "      <th>3</th>\n",
       "    </tr>\n",
       "  </thead>\n",
       "  <tbody>\n",
       "    <tr>\n",
       "      <th>0</th>\n",
       "      <td>654.000000</td>\n",
       "      <td>0.942188</td>\n",
       "      <td>0.453771</td>\n",
       "      <td>0.987583</td>\n",
       "    </tr>\n",
       "    <tr>\n",
       "      <th>1</th>\n",
       "      <td>0.575217</td>\n",
       "      <td>0.102660</td>\n",
       "      <td>0.239723</td>\n",
       "      <td>0.677257</td>\n",
       "    </tr>\n",
       "    <tr>\n",
       "      <th>2</th>\n",
       "      <td>0.570574</td>\n",
       "      <td>0.582973</td>\n",
       "      <td>0.911643</td>\n",
       "      <td>0.866714</td>\n",
       "    </tr>\n",
       "    <tr>\n",
       "      <th>3</th>\n",
       "      <td>0.875290</td>\n",
       "      <td>0.709307</td>\n",
       "      <td>0.726065</td>\n",
       "      <td>0.590644</td>\n",
       "    </tr>\n",
       "    <tr>\n",
       "      <th>4</th>\n",
       "      <td>0.799680</td>\n",
       "      <td>0.416390</td>\n",
       "      <td>0.776483</td>\n",
       "      <td>0.708007</td>\n",
       "    </tr>\n",
       "  </tbody>\n",
       "</table>\n",
       "</div>"
      ],
      "text/plain": [
       "            0         1         2         3\n",
       "0  654.000000  0.942188  0.453771  0.987583\n",
       "1    0.575217  0.102660  0.239723  0.677257\n",
       "2    0.570574  0.582973  0.911643  0.866714\n",
       "3    0.875290  0.709307  0.726065  0.590644\n",
       "4    0.799680  0.416390  0.776483  0.708007"
      ]
     },
     "execution_count": 29,
     "metadata": {},
     "output_type": "execute_result"
    }
   ],
   "source": [
    "df1. head()"
   ]
  },
  {
   "cell_type": "code",
   "execution_count": 30,
   "id": "24cc33b3-dbaf-4864-aa1e-9f752be260e6",
   "metadata": {},
   "outputs": [
    {
     "data": {
      "text/html": [
       "<div>\n",
       "<style scoped>\n",
       "    .dataframe tbody tr th:only-of-type {\n",
       "        vertical-align: middle;\n",
       "    }\n",
       "\n",
       "    .dataframe tbody tr th {\n",
       "        vertical-align: top;\n",
       "    }\n",
       "\n",
       "    .dataframe thead th {\n",
       "        text-align: right;\n",
       "    }\n",
       "</style>\n",
       "<table border=\"1\" class=\"dataframe\">\n",
       "  <thead>\n",
       "    <tr style=\"text-align: right;\">\n",
       "      <th></th>\n",
       "      <th>a</th>\n",
       "      <th>b</th>\n",
       "      <th>c</th>\n",
       "      <th>d</th>\n",
       "    </tr>\n",
       "  </thead>\n",
       "  <tbody>\n",
       "    <tr>\n",
       "      <th>0</th>\n",
       "      <td>654.000000</td>\n",
       "      <td>0.942188</td>\n",
       "      <td>0.453771</td>\n",
       "      <td>0.987583</td>\n",
       "    </tr>\n",
       "    <tr>\n",
       "      <th>1</th>\n",
       "      <td>0.575217</td>\n",
       "      <td>0.102660</td>\n",
       "      <td>0.239723</td>\n",
       "      <td>0.677257</td>\n",
       "    </tr>\n",
       "    <tr>\n",
       "      <th>2</th>\n",
       "      <td>0.570574</td>\n",
       "      <td>0.582973</td>\n",
       "      <td>0.911643</td>\n",
       "      <td>0.866714</td>\n",
       "    </tr>\n",
       "    <tr>\n",
       "      <th>3</th>\n",
       "      <td>0.875290</td>\n",
       "      <td>0.709307</td>\n",
       "      <td>0.726065</td>\n",
       "      <td>0.590644</td>\n",
       "    </tr>\n",
       "    <tr>\n",
       "      <th>4</th>\n",
       "      <td>0.799680</td>\n",
       "      <td>0.416390</td>\n",
       "      <td>0.776483</td>\n",
       "      <td>0.708007</td>\n",
       "    </tr>\n",
       "  </tbody>\n",
       "</table>\n",
       "</div>"
      ],
      "text/plain": [
       "            a         b         c         d\n",
       "0  654.000000  0.942188  0.453771  0.987583\n",
       "1    0.575217  0.102660  0.239723  0.677257\n",
       "2    0.570574  0.582973  0.911643  0.866714\n",
       "3    0.875290  0.709307  0.726065  0.590644\n",
       "4    0.799680  0.416390  0.776483  0.708007"
      ]
     },
     "execution_count": 30,
     "metadata": {},
     "output_type": "execute_result"
    }
   ],
   "source": [
    "df1.columns = list(\"abcd\")\n",
    "df1.head()"
   ]
  },
  {
   "cell_type": "code",
   "execution_count": 31,
   "id": "e80ce0f0-a5ec-42e2-b54e-34dda88cc319",
   "metadata": {},
   "outputs": [
    {
     "data": {
      "text/html": [
       "<div>\n",
       "<style scoped>\n",
       "    .dataframe tbody tr th:only-of-type {\n",
       "        vertical-align: middle;\n",
       "    }\n",
       "\n",
       "    .dataframe tbody tr th {\n",
       "        vertical-align: top;\n",
       "    }\n",
       "\n",
       "    .dataframe thead th {\n",
       "        text-align: right;\n",
       "    }\n",
       "</style>\n",
       "<table border=\"1\" class=\"dataframe\">\n",
       "  <thead>\n",
       "    <tr style=\"text-align: right;\">\n",
       "      <th></th>\n",
       "      <th>c</th>\n",
       "      <th>d</th>\n",
       "    </tr>\n",
       "  </thead>\n",
       "  <tbody>\n",
       "    <tr>\n",
       "      <th>3</th>\n",
       "      <td>0.726065</td>\n",
       "      <td>0.590644</td>\n",
       "    </tr>\n",
       "    <tr>\n",
       "      <th>4</th>\n",
       "      <td>0.776483</td>\n",
       "      <td>0.708007</td>\n",
       "    </tr>\n",
       "  </tbody>\n",
       "</table>\n",
       "</div>"
      ],
      "text/plain": [
       "          c         d\n",
       "3  0.726065  0.590644\n",
       "4  0.776483  0.708007"
      ]
     },
     "execution_count": 31,
     "metadata": {},
     "output_type": "execute_result"
    }
   ],
   "source": [
    "df1.loc[[3,4],['c','d']]\n"
   ]
  },
  {
   "cell_type": "code",
   "execution_count": 32,
   "id": "e18db559-f2d0-48f0-a2a0-947c2ad5a26f",
   "metadata": {},
   "outputs": [
    {
     "data": {
      "text/html": [
       "<div>\n",
       "<style scoped>\n",
       "    .dataframe tbody tr th:only-of-type {\n",
       "        vertical-align: middle;\n",
       "    }\n",
       "\n",
       "    .dataframe tbody tr th {\n",
       "        vertical-align: top;\n",
       "    }\n",
       "\n",
       "    .dataframe thead th {\n",
       "        text-align: right;\n",
       "    }\n",
       "</style>\n",
       "<table border=\"1\" class=\"dataframe\">\n",
       "  <thead>\n",
       "    <tr style=\"text-align: right;\">\n",
       "      <th></th>\n",
       "      <th>a</th>\n",
       "      <th>b</th>\n",
       "      <th>c</th>\n",
       "      <th>d</th>\n",
       "    </tr>\n",
       "  </thead>\n",
       "  <tbody>\n",
       "    <tr>\n",
       "      <th>6</th>\n",
       "      <td>0.117037</td>\n",
       "      <td>0.848875</td>\n",
       "      <td>0.146866</td>\n",
       "      <td>0.175809</td>\n",
       "    </tr>\n",
       "    <tr>\n",
       "      <th>8</th>\n",
       "      <td>0.004160</td>\n",
       "      <td>0.174511</td>\n",
       "      <td>0.503709</td>\n",
       "      <td>0.460213</td>\n",
       "    </tr>\n",
       "    <tr>\n",
       "      <th>9</th>\n",
       "      <td>0.030499</td>\n",
       "      <td>0.857187</td>\n",
       "      <td>0.234421</td>\n",
       "      <td>0.411234</td>\n",
       "    </tr>\n",
       "  </tbody>\n",
       "</table>\n",
       "</div>"
      ],
      "text/plain": [
       "          a         b         c         d\n",
       "6  0.117037  0.848875  0.146866  0.175809\n",
       "8  0.004160  0.174511  0.503709  0.460213\n",
       "9  0.030499  0.857187  0.234421  0.411234"
      ]
     },
     "execution_count": 32,
     "metadata": {},
     "output_type": "execute_result"
    }
   ],
   "source": [
    "df1.loc[(df1['a']<0.3)]"
   ]
  },
  {
   "cell_type": "code",
   "execution_count": 33,
   "id": "df6ba6ed-0503-47d6-a61f-2312f88865d3",
   "metadata": {},
   "outputs": [
    {
     "data": {
      "text/html": [
       "<div>\n",
       "<style scoped>\n",
       "    .dataframe tbody tr th:only-of-type {\n",
       "        vertical-align: middle;\n",
       "    }\n",
       "\n",
       "    .dataframe tbody tr th {\n",
       "        vertical-align: top;\n",
       "    }\n",
       "\n",
       "    .dataframe thead th {\n",
       "        text-align: right;\n",
       "    }\n",
       "</style>\n",
       "<table border=\"1\" class=\"dataframe\">\n",
       "  <thead>\n",
       "    <tr style=\"text-align: right;\">\n",
       "      <th></th>\n",
       "      <th>a</th>\n",
       "      <th>b</th>\n",
       "      <th>c</th>\n",
       "      <th>d</th>\n",
       "    </tr>\n",
       "  </thead>\n",
       "  <tbody>\n",
       "    <tr>\n",
       "      <th>3</th>\n",
       "      <td>0.875290</td>\n",
       "      <td>0.709307</td>\n",
       "      <td>0.726065</td>\n",
       "      <td>0.590644</td>\n",
       "    </tr>\n",
       "    <tr>\n",
       "      <th>4</th>\n",
       "      <td>0.799680</td>\n",
       "      <td>0.416390</td>\n",
       "      <td>0.776483</td>\n",
       "      <td>0.708007</td>\n",
       "    </tr>\n",
       "    <tr>\n",
       "      <th>5</th>\n",
       "      <td>0.522116</td>\n",
       "      <td>0.511947</td>\n",
       "      <td>0.435796</td>\n",
       "      <td>0.334733</td>\n",
       "    </tr>\n",
       "    <tr>\n",
       "      <th>6</th>\n",
       "      <td>0.117037</td>\n",
       "      <td>0.848875</td>\n",
       "      <td>0.146866</td>\n",
       "      <td>0.175809</td>\n",
       "    </tr>\n",
       "    <tr>\n",
       "      <th>7</th>\n",
       "      <td>0.737322</td>\n",
       "      <td>0.472319</td>\n",
       "      <td>0.646639</td>\n",
       "      <td>0.480763</td>\n",
       "    </tr>\n",
       "    <tr>\n",
       "      <th>8</th>\n",
       "      <td>0.004160</td>\n",
       "      <td>0.174511</td>\n",
       "      <td>0.503709</td>\n",
       "      <td>0.460213</td>\n",
       "    </tr>\n",
       "    <tr>\n",
       "      <th>9</th>\n",
       "      <td>0.030499</td>\n",
       "      <td>0.857187</td>\n",
       "      <td>0.234421</td>\n",
       "      <td>0.411234</td>\n",
       "    </tr>\n",
       "  </tbody>\n",
       "</table>\n",
       "</div>"
      ],
      "text/plain": [
       "          a         b         c         d\n",
       "3  0.875290  0.709307  0.726065  0.590644\n",
       "4  0.799680  0.416390  0.776483  0.708007\n",
       "5  0.522116  0.511947  0.435796  0.334733\n",
       "6  0.117037  0.848875  0.146866  0.175809\n",
       "7  0.737322  0.472319  0.646639  0.480763\n",
       "8  0.004160  0.174511  0.503709  0.460213\n",
       "9  0.030499  0.857187  0.234421  0.411234"
      ]
     },
     "execution_count": 33,
     "metadata": {},
     "output_type": "execute_result"
    }
   ],
   "source": [
    "df1.drop([0,1,2])"
   ]
  },
  {
   "cell_type": "code",
   "execution_count": 34,
   "id": "8e6e95ca-bf8b-4546-9a70-daeb99158108",
   "metadata": {},
   "outputs": [
    {
     "data": {
      "text/html": [
       "<div>\n",
       "<style scoped>\n",
       "    .dataframe tbody tr th:only-of-type {\n",
       "        vertical-align: middle;\n",
       "    }\n",
       "\n",
       "    .dataframe tbody tr th {\n",
       "        vertical-align: top;\n",
       "    }\n",
       "\n",
       "    .dataframe thead th {\n",
       "        text-align: right;\n",
       "    }\n",
       "</style>\n",
       "<table border=\"1\" class=\"dataframe\">\n",
       "  <thead>\n",
       "    <tr style=\"text-align: right;\">\n",
       "      <th></th>\n",
       "      <th>a</th>\n",
       "      <th>b</th>\n",
       "      <th>c</th>\n",
       "      <th>d</th>\n",
       "    </tr>\n",
       "  </thead>\n",
       "  <tbody>\n",
       "    <tr>\n",
       "      <th>0</th>\n",
       "      <td>654.000000</td>\n",
       "      <td>0.942188</td>\n",
       "      <td>0.453771</td>\n",
       "      <td>0.987583</td>\n",
       "    </tr>\n",
       "    <tr>\n",
       "      <th>1</th>\n",
       "      <td>0.575217</td>\n",
       "      <td>0.102660</td>\n",
       "      <td>0.239723</td>\n",
       "      <td>0.677257</td>\n",
       "    </tr>\n",
       "    <tr>\n",
       "      <th>2</th>\n",
       "      <td>0.570574</td>\n",
       "      <td>0.582973</td>\n",
       "      <td>0.911643</td>\n",
       "      <td>0.866714</td>\n",
       "    </tr>\n",
       "    <tr>\n",
       "      <th>3</th>\n",
       "      <td>0.875290</td>\n",
       "      <td>0.709307</td>\n",
       "      <td>0.726065</td>\n",
       "      <td>0.590644</td>\n",
       "    </tr>\n",
       "    <tr>\n",
       "      <th>4</th>\n",
       "      <td>0.799680</td>\n",
       "      <td>0.416390</td>\n",
       "      <td>0.776483</td>\n",
       "      <td>0.708007</td>\n",
       "    </tr>\n",
       "    <tr>\n",
       "      <th>5</th>\n",
       "      <td>0.522116</td>\n",
       "      <td>0.511947</td>\n",
       "      <td>0.435796</td>\n",
       "      <td>0.334733</td>\n",
       "    </tr>\n",
       "    <tr>\n",
       "      <th>6</th>\n",
       "      <td>0.117037</td>\n",
       "      <td>0.848875</td>\n",
       "      <td>0.146866</td>\n",
       "      <td>0.175809</td>\n",
       "    </tr>\n",
       "    <tr>\n",
       "      <th>7</th>\n",
       "      <td>0.737322</td>\n",
       "      <td>0.472319</td>\n",
       "      <td>0.646639</td>\n",
       "      <td>0.480763</td>\n",
       "    </tr>\n",
       "    <tr>\n",
       "      <th>8</th>\n",
       "      <td>0.004160</td>\n",
       "      <td>0.174511</td>\n",
       "      <td>0.503709</td>\n",
       "      <td>0.460213</td>\n",
       "    </tr>\n",
       "    <tr>\n",
       "      <th>9</th>\n",
       "      <td>0.030499</td>\n",
       "      <td>0.857187</td>\n",
       "      <td>0.234421</td>\n",
       "      <td>0.411234</td>\n",
       "    </tr>\n",
       "  </tbody>\n",
       "</table>\n",
       "</div>"
      ],
      "text/plain": [
       "            a         b         c         d\n",
       "0  654.000000  0.942188  0.453771  0.987583\n",
       "1    0.575217  0.102660  0.239723  0.677257\n",
       "2    0.570574  0.582973  0.911643  0.866714\n",
       "3    0.875290  0.709307  0.726065  0.590644\n",
       "4    0.799680  0.416390  0.776483  0.708007\n",
       "5    0.522116  0.511947  0.435796  0.334733\n",
       "6    0.117037  0.848875  0.146866  0.175809\n",
       "7    0.737322  0.472319  0.646639  0.480763\n",
       "8    0.004160  0.174511  0.503709  0.460213\n",
       "9    0.030499  0.857187  0.234421  0.411234"
      ]
     },
     "execution_count": 34,
     "metadata": {},
     "output_type": "execute_result"
    }
   ],
   "source": [
    "df1"
   ]
  },
  {
   "cell_type": "code",
   "execution_count": 35,
   "id": "357cc3cd-9ab4-4abd-abe9-f5b87965e46b",
   "metadata": {},
   "outputs": [
    {
     "data": {
      "text/html": [
       "<div>\n",
       "<style scoped>\n",
       "    .dataframe tbody tr th:only-of-type {\n",
       "        vertical-align: middle;\n",
       "    }\n",
       "\n",
       "    .dataframe tbody tr th {\n",
       "        vertical-align: top;\n",
       "    }\n",
       "\n",
       "    .dataframe thead th {\n",
       "        text-align: right;\n",
       "    }\n",
       "</style>\n",
       "<table border=\"1\" class=\"dataframe\">\n",
       "  <thead>\n",
       "    <tr style=\"text-align: right;\">\n",
       "      <th></th>\n",
       "      <th>d</th>\n",
       "    </tr>\n",
       "  </thead>\n",
       "  <tbody>\n",
       "    <tr>\n",
       "      <th>0</th>\n",
       "      <td>0.987583</td>\n",
       "    </tr>\n",
       "    <tr>\n",
       "      <th>1</th>\n",
       "      <td>0.677257</td>\n",
       "    </tr>\n",
       "    <tr>\n",
       "      <th>2</th>\n",
       "      <td>0.866714</td>\n",
       "    </tr>\n",
       "    <tr>\n",
       "      <th>3</th>\n",
       "      <td>0.590644</td>\n",
       "    </tr>\n",
       "    <tr>\n",
       "      <th>4</th>\n",
       "      <td>0.708007</td>\n",
       "    </tr>\n",
       "    <tr>\n",
       "      <th>5</th>\n",
       "      <td>0.334733</td>\n",
       "    </tr>\n",
       "    <tr>\n",
       "      <th>6</th>\n",
       "      <td>0.175809</td>\n",
       "    </tr>\n",
       "    <tr>\n",
       "      <th>7</th>\n",
       "      <td>0.480763</td>\n",
       "    </tr>\n",
       "    <tr>\n",
       "      <th>8</th>\n",
       "      <td>0.460213</td>\n",
       "    </tr>\n",
       "    <tr>\n",
       "      <th>9</th>\n",
       "      <td>0.411234</td>\n",
       "    </tr>\n",
       "  </tbody>\n",
       "</table>\n",
       "</div>"
      ],
      "text/plain": [
       "          d\n",
       "0  0.987583\n",
       "1  0.677257\n",
       "2  0.866714\n",
       "3  0.590644\n",
       "4  0.708007\n",
       "5  0.334733\n",
       "6  0.175809\n",
       "7  0.480763\n",
       "8  0.460213\n",
       "9  0.411234"
      ]
     },
     "execution_count": 35,
     "metadata": {},
     "output_type": "execute_result"
    }
   ],
   "source": [
    "df1.drop(['a','b','c'],axis=1, inplace = False)"
   ]
  },
  {
   "cell_type": "code",
   "execution_count": 36,
   "id": "84b1672d-9d81-4543-9721-7899a4a397eb",
   "metadata": {},
   "outputs": [],
   "source": [
    "df1.drop (['a','b','c'], axis = 1 , inplace = True)"
   ]
  },
  {
   "cell_type": "code",
   "execution_count": null,
   "id": "82a946b5-ddd0-4f42-b37d-2fb8d7ffd28b",
   "metadata": {},
   "outputs": [],
   "source": []
  },
  {
   "cell_type": "code",
   "execution_count": 37,
   "id": "1313237f-8e04-4736-be6b-ba60685d3199",
   "metadata": {},
   "outputs": [],
   "source": [
    "df2 = pd.read_excel(\"C:/Users/amanp/Downloads/Fruit_Sales_Shops_New.xlsx\")"
   ]
  },
  {
   "cell_type": "code",
   "execution_count": 38,
   "id": "ec2b9cb6-d4c8-4b76-94f5-0a799ef5ea41",
   "metadata": {},
   "outputs": [
    {
     "data": {
      "text/html": [
       "<div>\n",
       "<style scoped>\n",
       "    .dataframe tbody tr th:only-of-type {\n",
       "        vertical-align: middle;\n",
       "    }\n",
       "\n",
       "    .dataframe tbody tr th {\n",
       "        vertical-align: top;\n",
       "    }\n",
       "\n",
       "    .dataframe thead th {\n",
       "        text-align: right;\n",
       "    }\n",
       "</style>\n",
       "<table border=\"1\" class=\"dataframe\">\n",
       "  <thead>\n",
       "    <tr style=\"text-align: right;\">\n",
       "      <th></th>\n",
       "      <th>Shop Name</th>\n",
       "      <th>Apples</th>\n",
       "      <th>Bananas</th>\n",
       "      <th>Oranges</th>\n",
       "      <th>Mangoes</th>\n",
       "      <th>Grapes</th>\n",
       "      <th>Total Sales</th>\n",
       "      <th>Unnamed: 7</th>\n",
       "      <th>Unnamed: 8</th>\n",
       "      <th>Unnamed: 9</th>\n",
       "      <th>Unnamed: 10</th>\n",
       "      <th>Unnamed: 11</th>\n",
       "    </tr>\n",
       "  </thead>\n",
       "  <tbody>\n",
       "    <tr>\n",
       "      <th>0</th>\n",
       "      <td>Shop_1</td>\n",
       "      <td>60</td>\n",
       "      <td>366</td>\n",
       "      <td>425</td>\n",
       "      <td>106</td>\n",
       "      <td>434</td>\n",
       "      <td>1391</td>\n",
       "      <td>NaN</td>\n",
       "      <td>NaN</td>\n",
       "      <td>fruit</td>\n",
       "      <td>shop</td>\n",
       "      <td>quant</td>\n",
       "    </tr>\n",
       "    <tr>\n",
       "      <th>1</th>\n",
       "      <td>Shop_2</td>\n",
       "      <td>440</td>\n",
       "      <td>180</td>\n",
       "      <td>438</td>\n",
       "      <td>93</td>\n",
       "      <td>247</td>\n",
       "      <td>1398</td>\n",
       "      <td>NaN</td>\n",
       "      <td>NaN</td>\n",
       "      <td>Shop_5</td>\n",
       "      <td>2421</td>\n",
       "      <td>NaN</td>\n",
       "    </tr>\n",
       "    <tr>\n",
       "      <th>2</th>\n",
       "      <td>Shop_3</td>\n",
       "      <td>177</td>\n",
       "      <td>284</td>\n",
       "      <td>516</td>\n",
       "      <td>317</td>\n",
       "      <td>258</td>\n",
       "      <td>1552</td>\n",
       "      <td>NaN</td>\n",
       "      <td>NaN</td>\n",
       "      <td>NaN</td>\n",
       "      <td>NaN</td>\n",
       "      <td>NaN</td>\n",
       "    </tr>\n",
       "  </tbody>\n",
       "</table>\n",
       "</div>"
      ],
      "text/plain": [
       "  Shop Name  Apples  Bananas  Oranges  Mangoes  Grapes  Total Sales  \\\n",
       "0    Shop_1      60      366      425      106     434         1391   \n",
       "1    Shop_2     440      180      438       93     247         1398   \n",
       "2    Shop_3     177      284      516      317     258         1552   \n",
       "\n",
       "   Unnamed: 7  Unnamed: 8 Unnamed: 9 Unnamed: 10 Unnamed: 11  \n",
       "0         NaN         NaN      fruit        shop       quant  \n",
       "1         NaN         NaN     Shop_5        2421         NaN  \n",
       "2         NaN         NaN        NaN         NaN         NaN  "
      ]
     },
     "execution_count": 38,
     "metadata": {},
     "output_type": "execute_result"
    }
   ],
   "source": [
    "df2.head(3)"
   ]
  },
  {
   "cell_type": "code",
   "execution_count": 39,
   "id": "dfa2fc46-b918-489b-9167-060b046e4cf0",
   "metadata": {},
   "outputs": [],
   "source": [
    "df2.drop(['Unnamed: 8','Unnamed: 9','Unnamed: 10','Unnamed: 11'], axis = 1 ,inplace = True)"
   ]
  },
  {
   "cell_type": "code",
   "execution_count": 40,
   "id": "0e106ea2-6305-430a-840e-6187588adfd6",
   "metadata": {},
   "outputs": [
    {
     "data": {
      "text/html": [
       "<div>\n",
       "<style scoped>\n",
       "    .dataframe tbody tr th:only-of-type {\n",
       "        vertical-align: middle;\n",
       "    }\n",
       "\n",
       "    .dataframe tbody tr th {\n",
       "        vertical-align: top;\n",
       "    }\n",
       "\n",
       "    .dataframe thead th {\n",
       "        text-align: right;\n",
       "    }\n",
       "</style>\n",
       "<table border=\"1\" class=\"dataframe\">\n",
       "  <thead>\n",
       "    <tr style=\"text-align: right;\">\n",
       "      <th></th>\n",
       "      <th>Shop Name</th>\n",
       "      <th>Apples</th>\n",
       "      <th>Bananas</th>\n",
       "      <th>Oranges</th>\n",
       "      <th>Mangoes</th>\n",
       "      <th>Grapes</th>\n",
       "      <th>Total Sales</th>\n",
       "      <th>Unnamed: 7</th>\n",
       "    </tr>\n",
       "  </thead>\n",
       "  <tbody>\n",
       "    <tr>\n",
       "      <th>0</th>\n",
       "      <td>Shop_1</td>\n",
       "      <td>60</td>\n",
       "      <td>366</td>\n",
       "      <td>425</td>\n",
       "      <td>106</td>\n",
       "      <td>434</td>\n",
       "      <td>1391</td>\n",
       "      <td>NaN</td>\n",
       "    </tr>\n",
       "    <tr>\n",
       "      <th>1</th>\n",
       "      <td>Shop_2</td>\n",
       "      <td>440</td>\n",
       "      <td>180</td>\n",
       "      <td>438</td>\n",
       "      <td>93</td>\n",
       "      <td>247</td>\n",
       "      <td>1398</td>\n",
       "      <td>NaN</td>\n",
       "    </tr>\n",
       "    <tr>\n",
       "      <th>2</th>\n",
       "      <td>Shop_3</td>\n",
       "      <td>177</td>\n",
       "      <td>284</td>\n",
       "      <td>516</td>\n",
       "      <td>317</td>\n",
       "      <td>258</td>\n",
       "      <td>1552</td>\n",
       "      <td>NaN</td>\n",
       "    </tr>\n",
       "    <tr>\n",
       "      <th>3</th>\n",
       "      <td>Shop_4</td>\n",
       "      <td>420</td>\n",
       "      <td>80</td>\n",
       "      <td>137</td>\n",
       "      <td>143</td>\n",
       "      <td>419</td>\n",
       "      <td>1199</td>\n",
       "      <td>NaN</td>\n",
       "    </tr>\n",
       "    <tr>\n",
       "      <th>4</th>\n",
       "      <td>Shop_5</td>\n",
       "      <td>141</td>\n",
       "      <td>141</td>\n",
       "      <td>69</td>\n",
       "      <td>573</td>\n",
       "      <td>371</td>\n",
       "      <td>1295</td>\n",
       "      <td>NaN</td>\n",
       "    </tr>\n",
       "    <tr>\n",
       "      <th>5</th>\n",
       "      <td>Shop_6</td>\n",
       "      <td>306</td>\n",
       "      <td>483</td>\n",
       "      <td>219</td>\n",
       "      <td>513</td>\n",
       "      <td>345</td>\n",
       "      <td>1866</td>\n",
       "      <td>NaN</td>\n",
       "    </tr>\n",
       "    <tr>\n",
       "      <th>6</th>\n",
       "      <td>Shop_7</td>\n",
       "      <td>349</td>\n",
       "      <td>400</td>\n",
       "      <td>587</td>\n",
       "      <td>205</td>\n",
       "      <td>168</td>\n",
       "      <td>1709</td>\n",
       "      <td>NaN</td>\n",
       "    </tr>\n",
       "    <tr>\n",
       "      <th>7</th>\n",
       "      <td>Shop_8</td>\n",
       "      <td>183</td>\n",
       "      <td>130</td>\n",
       "      <td>416</td>\n",
       "      <td>367</td>\n",
       "      <td>167</td>\n",
       "      <td>1263</td>\n",
       "      <td>NaN</td>\n",
       "    </tr>\n",
       "    <tr>\n",
       "      <th>8</th>\n",
       "      <td>Shop_9</td>\n",
       "      <td>323</td>\n",
       "      <td>326</td>\n",
       "      <td>198</td>\n",
       "      <td>521</td>\n",
       "      <td>157</td>\n",
       "      <td>1525</td>\n",
       "      <td>NaN</td>\n",
       "    </tr>\n",
       "    <tr>\n",
       "      <th>9</th>\n",
       "      <td>Shop_10</td>\n",
       "      <td>554</td>\n",
       "      <td>390</td>\n",
       "      <td>255</td>\n",
       "      <td>285</td>\n",
       "      <td>152</td>\n",
       "      <td>1636</td>\n",
       "      <td>NaN</td>\n",
       "    </tr>\n",
       "    <tr>\n",
       "      <th>10</th>\n",
       "      <td>Shop_11</td>\n",
       "      <td>334</td>\n",
       "      <td>357</td>\n",
       "      <td>575</td>\n",
       "      <td>360</td>\n",
       "      <td>235</td>\n",
       "      <td>1861</td>\n",
       "      <td>NaN</td>\n",
       "    </tr>\n",
       "    <tr>\n",
       "      <th>11</th>\n",
       "      <td>Shop_12</td>\n",
       "      <td>334</td>\n",
       "      <td>410</td>\n",
       "      <td>553</td>\n",
       "      <td>123</td>\n",
       "      <td>140</td>\n",
       "      <td>1560</td>\n",
       "      <td>NaN</td>\n",
       "    </tr>\n",
       "    <tr>\n",
       "      <th>12</th>\n",
       "      <td>Shop_13</td>\n",
       "      <td>430</td>\n",
       "      <td>509</td>\n",
       "      <td>428</td>\n",
       "      <td>152</td>\n",
       "      <td>313</td>\n",
       "      <td>1832</td>\n",
       "      <td>NaN</td>\n",
       "    </tr>\n",
       "    <tr>\n",
       "      <th>13</th>\n",
       "      <td>Shop_14</td>\n",
       "      <td>69</td>\n",
       "      <td>549</td>\n",
       "      <td>393</td>\n",
       "      <td>172</td>\n",
       "      <td>562</td>\n",
       "      <td>1745</td>\n",
       "      <td>NaN</td>\n",
       "    </tr>\n",
       "    <tr>\n",
       "      <th>14</th>\n",
       "      <td>Shop_15</td>\n",
       "      <td>278</td>\n",
       "      <td>160</td>\n",
       "      <td>285</td>\n",
       "      <td>404</td>\n",
       "      <td>310</td>\n",
       "      <td>1437</td>\n",
       "      <td>NaN</td>\n",
       "    </tr>\n",
       "    <tr>\n",
       "      <th>15</th>\n",
       "      <td>Shop_16</td>\n",
       "      <td>262</td>\n",
       "      <td>136</td>\n",
       "      <td>475</td>\n",
       "      <td>93</td>\n",
       "      <td>168</td>\n",
       "      <td>1134</td>\n",
       "      <td>NaN</td>\n",
       "    </tr>\n",
       "    <tr>\n",
       "      <th>16</th>\n",
       "      <td>Shop_17</td>\n",
       "      <td>568</td>\n",
       "      <td>146</td>\n",
       "      <td>311</td>\n",
       "      <td>173</td>\n",
       "      <td>279</td>\n",
       "      <td>1477</td>\n",
       "      <td>NaN</td>\n",
       "    </tr>\n",
       "    <tr>\n",
       "      <th>17</th>\n",
       "      <td>Shop_18</td>\n",
       "      <td>364</td>\n",
       "      <td>249</td>\n",
       "      <td>304</td>\n",
       "      <td>139</td>\n",
       "      <td>459</td>\n",
       "      <td>1515</td>\n",
       "      <td>NaN</td>\n",
       "    </tr>\n",
       "    <tr>\n",
       "      <th>18</th>\n",
       "      <td>Shop_19</td>\n",
       "      <td>516</td>\n",
       "      <td>491</td>\n",
       "      <td>579</td>\n",
       "      <td>478</td>\n",
       "      <td>92</td>\n",
       "      <td>2156</td>\n",
       "      <td>NaN</td>\n",
       "    </tr>\n",
       "    <tr>\n",
       "      <th>19</th>\n",
       "      <td>Shop_20</td>\n",
       "      <td>222</td>\n",
       "      <td>562</td>\n",
       "      <td>476</td>\n",
       "      <td>584</td>\n",
       "      <td>577</td>\n",
       "      <td>2421</td>\n",
       "      <td>NaN</td>\n",
       "    </tr>\n",
       "  </tbody>\n",
       "</table>\n",
       "</div>"
      ],
      "text/plain": [
       "   Shop Name  Apples  Bananas  Oranges  Mangoes  Grapes  Total Sales  \\\n",
       "0     Shop_1      60      366      425      106     434         1391   \n",
       "1     Shop_2     440      180      438       93     247         1398   \n",
       "2     Shop_3     177      284      516      317     258         1552   \n",
       "3     Shop_4     420       80      137      143     419         1199   \n",
       "4     Shop_5     141      141       69      573     371         1295   \n",
       "5     Shop_6     306      483      219      513     345         1866   \n",
       "6     Shop_7     349      400      587      205     168         1709   \n",
       "7     Shop_8     183      130      416      367     167         1263   \n",
       "8     Shop_9     323      326      198      521     157         1525   \n",
       "9    Shop_10     554      390      255      285     152         1636   \n",
       "10   Shop_11     334      357      575      360     235         1861   \n",
       "11   Shop_12     334      410      553      123     140         1560   \n",
       "12   Shop_13     430      509      428      152     313         1832   \n",
       "13   Shop_14      69      549      393      172     562         1745   \n",
       "14   Shop_15     278      160      285      404     310         1437   \n",
       "15   Shop_16     262      136      475       93     168         1134   \n",
       "16   Shop_17     568      146      311      173     279         1477   \n",
       "17   Shop_18     364      249      304      139     459         1515   \n",
       "18   Shop_19     516      491      579      478      92         2156   \n",
       "19   Shop_20     222      562      476      584     577         2421   \n",
       "\n",
       "    Unnamed: 7  \n",
       "0          NaN  \n",
       "1          NaN  \n",
       "2          NaN  \n",
       "3          NaN  \n",
       "4          NaN  \n",
       "5          NaN  \n",
       "6          NaN  \n",
       "7          NaN  \n",
       "8          NaN  \n",
       "9          NaN  \n",
       "10         NaN  \n",
       "11         NaN  \n",
       "12         NaN  \n",
       "13         NaN  \n",
       "14         NaN  \n",
       "15         NaN  \n",
       "16         NaN  \n",
       "17         NaN  \n",
       "18         NaN  \n",
       "19         NaN  "
      ]
     },
     "execution_count": 40,
     "metadata": {},
     "output_type": "execute_result"
    }
   ],
   "source": [
    "df2"
   ]
  },
  {
   "cell_type": "code",
   "execution_count": 41,
   "id": "a0a8c7c4-7eeb-4a0d-9635-9f44a8537cb9",
   "metadata": {},
   "outputs": [],
   "source": [
    "import numpy as np\n",
    "import pandas as pd"
   ]
  },
  {
   "cell_type": "code",
   "execution_count": 42,
   "id": "fb1550b4-4278-4770-914f-8e1b9fe320c5",
   "metadata": {},
   "outputs": [
    {
     "name": "stdout",
     "output_type": "stream",
     "text": [
      "{'name': ['aman', 'rohan', 'harryy', 'raj'], 'marks': [92, 34, 24, 17], 'city': ['hisua', 'bareily', 'nawada', 'london']}\n"
     ]
    }
   ],
   "source": [
    "sict = {\n",
    "    \"name\":[\"aman\",\"rohan\",\"harryy\",\"raj\"],\n",
    "    \"marks\":[92,34,24,17],\n",
    "    \"city\":[\"hisua\",\"bareily\",\"nawada\",\"london\"]}\n",
    "print(sict)"
   ]
  },
  {
   "cell_type": "code",
   "execution_count": 43,
   "id": "532017e4-f2ad-4809-ad23-a51daea69f3d",
   "metadata": {},
   "outputs": [],
   "source": [
    "df = pd.DataFrame(sict)"
   ]
  },
  {
   "cell_type": "code",
   "execution_count": 44,
   "id": "b35a9187-bf9c-4483-9aa2-0f9734af534c",
   "metadata": {},
   "outputs": [],
   "source": [
    "ram = df.to_csv (\"DIVR.csv\")"
   ]
  },
  {
   "cell_type": "raw",
   "id": "d479748c-c1b3-4ef5-b7db-175cb91cd2e1",
   "metadata": {},
   "source": []
  },
  {
   "cell_type": "raw",
   "id": "1b91219c-0ef1-46e7-a42e-8cce233546c7",
   "metadata": {},
   "source": []
  },
  {
   "cell_type": "code",
   "execution_count": 45,
   "id": "51f0a291-c3f1-4e22-940e-dd6d07870e02",
   "metadata": {},
   "outputs": [],
   "source": [
    "book = {\n",
    "    \"subject\" : [\"amths\",\"Science\"],\n",
    "    \"class\" : [8,9]}"
   ]
  },
  {
   "cell_type": "code",
   "execution_count": 46,
   "id": "02c41c49-eb6f-4569-ab7a-385d4fcb2b00",
   "metadata": {},
   "outputs": [],
   "source": [
    "ram1 = pd.DataFrame(book)"
   ]
  },
  {
   "cell_type": "code",
   "execution_count": 47,
   "id": "cdebe728-9faf-4f25-8129-2d1ed0a14193",
   "metadata": {},
   "outputs": [
    {
     "data": {
      "text/html": [
       "<div>\n",
       "<style scoped>\n",
       "    .dataframe tbody tr th:only-of-type {\n",
       "        vertical-align: middle;\n",
       "    }\n",
       "\n",
       "    .dataframe tbody tr th {\n",
       "        vertical-align: top;\n",
       "    }\n",
       "\n",
       "    .dataframe thead th {\n",
       "        text-align: right;\n",
       "    }\n",
       "</style>\n",
       "<table border=\"1\" class=\"dataframe\">\n",
       "  <thead>\n",
       "    <tr style=\"text-align: right;\">\n",
       "      <th></th>\n",
       "      <th>subject</th>\n",
       "      <th>class</th>\n",
       "    </tr>\n",
       "  </thead>\n",
       "  <tbody>\n",
       "    <tr>\n",
       "      <th>0</th>\n",
       "      <td>amths</td>\n",
       "      <td>8</td>\n",
       "    </tr>\n",
       "    <tr>\n",
       "      <th>1</th>\n",
       "      <td>Science</td>\n",
       "      <td>9</td>\n",
       "    </tr>\n",
       "  </tbody>\n",
       "</table>\n",
       "</div>"
      ],
      "text/plain": [
       "   subject  class\n",
       "0    amths      8\n",
       "1  Science      9"
      ]
     },
     "execution_count": 47,
     "metadata": {},
     "output_type": "execute_result"
    }
   ],
   "source": [
    "ram1"
   ]
  },
  {
   "cell_type": "code",
   "execution_count": 48,
   "id": "5134dfb0-c59a-4a90-bf7c-61d9fea8f53c",
   "metadata": {},
   "outputs": [],
   "source": [
    "ram2 = ram1.to_csv(\"shdb.csv\")"
   ]
  },
  {
   "cell_type": "code",
   "execution_count": 49,
   "id": "959518bf-04c1-4ea5-aa4d-bb5a160daeed",
   "metadata": {},
   "outputs": [
    {
     "data": {
      "text/plain": [
       "array([[1., 0., 0., 0.],\n",
       "       [0., 1., 0., 0.],\n",
       "       [0., 0., 1., 0.],\n",
       "       [0., 0., 0., 1.]])"
      ]
     },
     "execution_count": 49,
     "metadata": {},
     "output_type": "execute_result"
    }
   ],
   "source": [
    "np.identity(4)"
   ]
  },
  {
   "cell_type": "code",
   "execution_count": 50,
   "id": "96b05dd5-629f-4246-a1a9-e7894c949625",
   "metadata": {},
   "outputs": [],
   "source": [
    "df7 = pd.DataFrame(np.random.rand(4,5), index = np.arange(4))\n"
   ]
  },
  {
   "cell_type": "code",
   "execution_count": 51,
   "id": "bc8d5ff0-ce39-4cb1-b46c-02abd9dda2f3",
   "metadata": {},
   "outputs": [
    {
     "data": {
      "text/html": [
       "<div>\n",
       "<style scoped>\n",
       "    .dataframe tbody tr th:only-of-type {\n",
       "        vertical-align: middle;\n",
       "    }\n",
       "\n",
       "    .dataframe tbody tr th {\n",
       "        vertical-align: top;\n",
       "    }\n",
       "\n",
       "    .dataframe thead th {\n",
       "        text-align: right;\n",
       "    }\n",
       "</style>\n",
       "<table border=\"1\" class=\"dataframe\">\n",
       "  <thead>\n",
       "    <tr style=\"text-align: right;\">\n",
       "      <th></th>\n",
       "      <th>0</th>\n",
       "      <th>1</th>\n",
       "      <th>2</th>\n",
       "      <th>3</th>\n",
       "      <th>4</th>\n",
       "    </tr>\n",
       "  </thead>\n",
       "  <tbody>\n",
       "    <tr>\n",
       "      <th>0</th>\n",
       "      <td>0.812808</td>\n",
       "      <td>0.005929</td>\n",
       "      <td>0.597135</td>\n",
       "      <td>0.106288</td>\n",
       "      <td>0.876598</td>\n",
       "    </tr>\n",
       "    <tr>\n",
       "      <th>1</th>\n",
       "      <td>0.718152</td>\n",
       "      <td>0.435846</td>\n",
       "      <td>0.845139</td>\n",
       "      <td>0.265849</td>\n",
       "      <td>0.659475</td>\n",
       "    </tr>\n",
       "    <tr>\n",
       "      <th>2</th>\n",
       "      <td>0.279609</td>\n",
       "      <td>0.873053</td>\n",
       "      <td>0.725693</td>\n",
       "      <td>0.817529</td>\n",
       "      <td>0.165333</td>\n",
       "    </tr>\n",
       "    <tr>\n",
       "      <th>3</th>\n",
       "      <td>0.129511</td>\n",
       "      <td>0.280225</td>\n",
       "      <td>0.055893</td>\n",
       "      <td>0.204735</td>\n",
       "      <td>0.295896</td>\n",
       "    </tr>\n",
       "  </tbody>\n",
       "</table>\n",
       "</div>"
      ],
      "text/plain": [
       "          0         1         2         3         4\n",
       "0  0.812808  0.005929  0.597135  0.106288  0.876598\n",
       "1  0.718152  0.435846  0.845139  0.265849  0.659475\n",
       "2  0.279609  0.873053  0.725693  0.817529  0.165333\n",
       "3  0.129511  0.280225  0.055893  0.204735  0.295896"
      ]
     },
     "execution_count": 51,
     "metadata": {},
     "output_type": "execute_result"
    }
   ],
   "source": [
    "df7"
   ]
  },
  {
   "cell_type": "code",
   "execution_count": 52,
   "id": "ab678f9b-3eaa-4dae-8666-3935bbc43b3c",
   "metadata": {},
   "outputs": [],
   "source": [
    "df7.columns = list(\"abcde\")"
   ]
  },
  {
   "cell_type": "code",
   "execution_count": 53,
   "id": "5e087395-75f6-470a-a9bf-44c05001a734",
   "metadata": {},
   "outputs": [
    {
     "data": {
      "text/html": [
       "<div>\n",
       "<style scoped>\n",
       "    .dataframe tbody tr th:only-of-type {\n",
       "        vertical-align: middle;\n",
       "    }\n",
       "\n",
       "    .dataframe tbody tr th {\n",
       "        vertical-align: top;\n",
       "    }\n",
       "\n",
       "    .dataframe thead th {\n",
       "        text-align: right;\n",
       "    }\n",
       "</style>\n",
       "<table border=\"1\" class=\"dataframe\">\n",
       "  <thead>\n",
       "    <tr style=\"text-align: right;\">\n",
       "      <th></th>\n",
       "      <th>a</th>\n",
       "      <th>b</th>\n",
       "      <th>c</th>\n",
       "      <th>d</th>\n",
       "      <th>e</th>\n",
       "    </tr>\n",
       "  </thead>\n",
       "  <tbody>\n",
       "    <tr>\n",
       "      <th>0</th>\n",
       "      <td>0.812808</td>\n",
       "      <td>0.005929</td>\n",
       "      <td>0.597135</td>\n",
       "      <td>0.106288</td>\n",
       "      <td>0.876598</td>\n",
       "    </tr>\n",
       "    <tr>\n",
       "      <th>1</th>\n",
       "      <td>0.718152</td>\n",
       "      <td>0.435846</td>\n",
       "      <td>0.845139</td>\n",
       "      <td>0.265849</td>\n",
       "      <td>0.659475</td>\n",
       "    </tr>\n",
       "    <tr>\n",
       "      <th>2</th>\n",
       "      <td>0.279609</td>\n",
       "      <td>0.873053</td>\n",
       "      <td>0.725693</td>\n",
       "      <td>0.817529</td>\n",
       "      <td>0.165333</td>\n",
       "    </tr>\n",
       "    <tr>\n",
       "      <th>3</th>\n",
       "      <td>0.129511</td>\n",
       "      <td>0.280225</td>\n",
       "      <td>0.055893</td>\n",
       "      <td>0.204735</td>\n",
       "      <td>0.295896</td>\n",
       "    </tr>\n",
       "  </tbody>\n",
       "</table>\n",
       "</div>"
      ],
      "text/plain": [
       "          a         b         c         d         e\n",
       "0  0.812808  0.005929  0.597135  0.106288  0.876598\n",
       "1  0.718152  0.435846  0.845139  0.265849  0.659475\n",
       "2  0.279609  0.873053  0.725693  0.817529  0.165333\n",
       "3  0.129511  0.280225  0.055893  0.204735  0.295896"
      ]
     },
     "execution_count": 53,
     "metadata": {},
     "output_type": "execute_result"
    }
   ],
   "source": [
    "df7"
   ]
  },
  {
   "cell_type": "code",
   "execution_count": 54,
   "id": "1331043f-9f16-420f-9742-a6b07aea3219",
   "metadata": {},
   "outputs": [
    {
     "name": "stderr",
     "output_type": "stream",
     "text": [
      "C:\\Users\\amanp\\AppData\\Local\\Temp\\ipykernel_92612\\3331999626.py:1: FutureWarning: ChainedAssignmentError: behaviour will change in pandas 3.0!\n",
      "You are setting values through chained assignment. Currently this works in certain cases, but when using Copy-on-Write (which will become the default behaviour in pandas 3.0) this will never work to update the original DataFrame or Series, because the intermediate object on which we are setting values will behave as a copy.\n",
      "A typical example is when you are setting values in a column of a DataFrame, like:\n",
      "\n",
      "df[\"col\"][row_indexer] = value\n",
      "\n",
      "Use `df.loc[row_indexer, \"col\"] = values` instead, to perform the assignment in a single step and ensure this keeps updating the original `df`.\n",
      "\n",
      "See the caveats in the documentation: https://pandas.pydata.org/pandas-docs/stable/user_guide/indexing.html#returning-a-view-versus-a-copy\n",
      "\n",
      "  df7.loc [0] [0] = 234\n",
      "C:\\Users\\amanp\\AppData\\Local\\Temp\\ipykernel_92612\\3331999626.py:1: FutureWarning: Series.__setitem__ treating keys as positions is deprecated. In a future version, integer keys will always be treated as labels (consistent with DataFrame behavior). To set a value by position, use `ser.iloc[pos] = value`\n",
      "  df7.loc [0] [0] = 234\n"
     ]
    },
    {
     "data": {
      "text/html": [
       "<div>\n",
       "<style scoped>\n",
       "    .dataframe tbody tr th:only-of-type {\n",
       "        vertical-align: middle;\n",
       "    }\n",
       "\n",
       "    .dataframe tbody tr th {\n",
       "        vertical-align: top;\n",
       "    }\n",
       "\n",
       "    .dataframe thead th {\n",
       "        text-align: right;\n",
       "    }\n",
       "</style>\n",
       "<table border=\"1\" class=\"dataframe\">\n",
       "  <thead>\n",
       "    <tr style=\"text-align: right;\">\n",
       "      <th></th>\n",
       "      <th>a</th>\n",
       "      <th>b</th>\n",
       "      <th>c</th>\n",
       "      <th>d</th>\n",
       "      <th>e</th>\n",
       "    </tr>\n",
       "  </thead>\n",
       "  <tbody>\n",
       "    <tr>\n",
       "      <th>0</th>\n",
       "      <td>234.000000</td>\n",
       "      <td>0.005929</td>\n",
       "      <td>0.597135</td>\n",
       "      <td>0.106288</td>\n",
       "      <td>0.876598</td>\n",
       "    </tr>\n",
       "    <tr>\n",
       "      <th>1</th>\n",
       "      <td>0.718152</td>\n",
       "      <td>0.435846</td>\n",
       "      <td>0.845139</td>\n",
       "      <td>0.265849</td>\n",
       "      <td>0.659475</td>\n",
       "    </tr>\n",
       "    <tr>\n",
       "      <th>2</th>\n",
       "      <td>0.279609</td>\n",
       "      <td>0.873053</td>\n",
       "      <td>0.725693</td>\n",
       "      <td>0.817529</td>\n",
       "      <td>0.165333</td>\n",
       "    </tr>\n",
       "    <tr>\n",
       "      <th>3</th>\n",
       "      <td>0.129511</td>\n",
       "      <td>0.280225</td>\n",
       "      <td>0.055893</td>\n",
       "      <td>0.204735</td>\n",
       "      <td>0.295896</td>\n",
       "    </tr>\n",
       "  </tbody>\n",
       "</table>\n",
       "</div>"
      ],
      "text/plain": [
       "            a         b         c         d         e\n",
       "0  234.000000  0.005929  0.597135  0.106288  0.876598\n",
       "1    0.718152  0.435846  0.845139  0.265849  0.659475\n",
       "2    0.279609  0.873053  0.725693  0.817529  0.165333\n",
       "3    0.129511  0.280225  0.055893  0.204735  0.295896"
      ]
     },
     "execution_count": 54,
     "metadata": {},
     "output_type": "execute_result"
    }
   ],
   "source": [
    "df7.loc [0] [0] = 234\n",
    "df7"
   ]
  },
  {
   "cell_type": "code",
   "execution_count": 55,
   "id": "4a19c08e-53bb-4b2a-9509-9cf32a7d1834",
   "metadata": {},
   "outputs": [
    {
     "data": {
      "text/plain": [
       "<bound method DataFrame.to_numpy of             a         b         c         d         e\n",
       "0  234.000000  0.005929  0.597135  0.106288  0.876598\n",
       "1    0.718152  0.435846  0.845139  0.265849  0.659475\n",
       "2    0.279609  0.873053  0.725693  0.817529  0.165333\n",
       "3    0.129511  0.280225  0.055893  0.204735  0.295896>"
      ]
     },
     "execution_count": 55,
     "metadata": {},
     "output_type": "execute_result"
    }
   ],
   "source": [
    "df7.to_numpy"
   ]
  },
  {
   "cell_type": "code",
   "execution_count": 56,
   "id": "9d8b6789-896e-42cd-9f54-0260ab29b1a2",
   "metadata": {},
   "outputs": [
    {
     "data": {
      "text/html": [
       "<div>\n",
       "<style scoped>\n",
       "    .dataframe tbody tr th:only-of-type {\n",
       "        vertical-align: middle;\n",
       "    }\n",
       "\n",
       "    .dataframe tbody tr th {\n",
       "        vertical-align: top;\n",
       "    }\n",
       "\n",
       "    .dataframe thead th {\n",
       "        text-align: right;\n",
       "    }\n",
       "</style>\n",
       "<table border=\"1\" class=\"dataframe\">\n",
       "  <thead>\n",
       "    <tr style=\"text-align: right;\">\n",
       "      <th></th>\n",
       "      <th>c</th>\n",
       "      <th>d</th>\n",
       "      <th>e</th>\n",
       "    </tr>\n",
       "  </thead>\n",
       "  <tbody>\n",
       "    <tr>\n",
       "      <th>0</th>\n",
       "      <td>0.597135</td>\n",
       "      <td>0.106288</td>\n",
       "      <td>0.876598</td>\n",
       "    </tr>\n",
       "    <tr>\n",
       "      <th>1</th>\n",
       "      <td>0.845139</td>\n",
       "      <td>0.265849</td>\n",
       "      <td>0.659475</td>\n",
       "    </tr>\n",
       "    <tr>\n",
       "      <th>2</th>\n",
       "      <td>0.725693</td>\n",
       "      <td>0.817529</td>\n",
       "      <td>0.165333</td>\n",
       "    </tr>\n",
       "    <tr>\n",
       "      <th>3</th>\n",
       "      <td>0.055893</td>\n",
       "      <td>0.204735</td>\n",
       "      <td>0.295896</td>\n",
       "    </tr>\n",
       "  </tbody>\n",
       "</table>\n",
       "</div>"
      ],
      "text/plain": [
       "          c         d         e\n",
       "0  0.597135  0.106288  0.876598\n",
       "1  0.845139  0.265849  0.659475\n",
       "2  0.725693  0.817529  0.165333\n",
       "3  0.055893  0.204735  0.295896"
      ]
     },
     "execution_count": 56,
     "metadata": {},
     "output_type": "execute_result"
    }
   ],
   "source": [
    "df7.drop(['a','b'], axis = 1 , inplace =True)\n",
    "df7"
   ]
  },
  {
   "cell_type": "code",
   "execution_count": 57,
   "id": "5ff7ca89-b29d-4e89-b35f-11834eb54edc",
   "metadata": {},
   "outputs": [
    {
     "data": {
      "text/html": [
       "<div>\n",
       "<style scoped>\n",
       "    .dataframe tbody tr th:only-of-type {\n",
       "        vertical-align: middle;\n",
       "    }\n",
       "\n",
       "    .dataframe tbody tr th {\n",
       "        vertical-align: top;\n",
       "    }\n",
       "\n",
       "    .dataframe thead th {\n",
       "        text-align: right;\n",
       "    }\n",
       "</style>\n",
       "<table border=\"1\" class=\"dataframe\">\n",
       "  <thead>\n",
       "    <tr style=\"text-align: right;\">\n",
       "      <th></th>\n",
       "      <th>c</th>\n",
       "      <th>d</th>\n",
       "      <th>e</th>\n",
       "    </tr>\n",
       "  </thead>\n",
       "  <tbody>\n",
       "    <tr>\n",
       "      <th>2</th>\n",
       "      <td>0.725693</td>\n",
       "      <td>0.817529</td>\n",
       "      <td>0.165333</td>\n",
       "    </tr>\n",
       "    <tr>\n",
       "      <th>3</th>\n",
       "      <td>0.055893</td>\n",
       "      <td>0.204735</td>\n",
       "      <td>0.295896</td>\n",
       "    </tr>\n",
       "  </tbody>\n",
       "</table>\n",
       "</div>"
      ],
      "text/plain": [
       "          c         d         e\n",
       "2  0.725693  0.817529  0.165333\n",
       "3  0.055893  0.204735  0.295896"
      ]
     },
     "execution_count": 57,
     "metadata": {},
     "output_type": "execute_result"
    }
   ],
   "source": [
    "df7.drop([0,1])"
   ]
  },
  {
   "cell_type": "code",
   "execution_count": 58,
   "id": "b8a8e901-4b27-4e27-9251-0e0dec0e27fe",
   "metadata": {},
   "outputs": [
    {
     "data": {
      "text/html": [
       "<div>\n",
       "<style scoped>\n",
       "    .dataframe tbody tr th:only-of-type {\n",
       "        vertical-align: middle;\n",
       "    }\n",
       "\n",
       "    .dataframe tbody tr th {\n",
       "        vertical-align: top;\n",
       "    }\n",
       "\n",
       "    .dataframe thead th {\n",
       "        text-align: right;\n",
       "    }\n",
       "</style>\n",
       "<table border=\"1\" class=\"dataframe\">\n",
       "  <thead>\n",
       "    <tr style=\"text-align: right;\">\n",
       "      <th></th>\n",
       "      <th>c</th>\n",
       "      <th>d</th>\n",
       "      <th>e</th>\n",
       "    </tr>\n",
       "  </thead>\n",
       "  <tbody>\n",
       "    <tr>\n",
       "      <th>0</th>\n",
       "      <td>0.597135</td>\n",
       "      <td>0.106288</td>\n",
       "      <td>0.876598</td>\n",
       "    </tr>\n",
       "    <tr>\n",
       "      <th>1</th>\n",
       "      <td>0.845139</td>\n",
       "      <td>0.265849</td>\n",
       "      <td>0.659475</td>\n",
       "    </tr>\n",
       "    <tr>\n",
       "      <th>2</th>\n",
       "      <td>0.725693</td>\n",
       "      <td>0.817529</td>\n",
       "      <td>0.165333</td>\n",
       "    </tr>\n",
       "    <tr>\n",
       "      <th>3</th>\n",
       "      <td>0.055893</td>\n",
       "      <td>0.204735</td>\n",
       "      <td>0.295896</td>\n",
       "    </tr>\n",
       "  </tbody>\n",
       "</table>\n",
       "</div>"
      ],
      "text/plain": [
       "          c         d         e\n",
       "0  0.597135  0.106288  0.876598\n",
       "1  0.845139  0.265849  0.659475\n",
       "2  0.725693  0.817529  0.165333\n",
       "3  0.055893  0.204735  0.295896"
      ]
     },
     "execution_count": 58,
     "metadata": {},
     "output_type": "execute_result"
    }
   ],
   "source": [
    "df7"
   ]
  },
  {
   "cell_type": "code",
   "execution_count": 59,
   "id": "64a8864b-286f-4b2a-bb78-14a744c4aec6",
   "metadata": {},
   "outputs": [],
   "source": [
    "df8 = pd.DataFrame(np.random.rand(4,6), index = np.arange(4))"
   ]
  },
  {
   "cell_type": "code",
   "execution_count": 60,
   "id": "f2181d70-5390-4411-8a32-8e52ba09bc1d",
   "metadata": {},
   "outputs": [
    {
     "data": {
      "text/html": [
       "<div>\n",
       "<style scoped>\n",
       "    .dataframe tbody tr th:only-of-type {\n",
       "        vertical-align: middle;\n",
       "    }\n",
       "\n",
       "    .dataframe tbody tr th {\n",
       "        vertical-align: top;\n",
       "    }\n",
       "\n",
       "    .dataframe thead th {\n",
       "        text-align: right;\n",
       "    }\n",
       "</style>\n",
       "<table border=\"1\" class=\"dataframe\">\n",
       "  <thead>\n",
       "    <tr style=\"text-align: right;\">\n",
       "      <th></th>\n",
       "      <th>0</th>\n",
       "      <th>1</th>\n",
       "      <th>2</th>\n",
       "      <th>3</th>\n",
       "      <th>4</th>\n",
       "      <th>5</th>\n",
       "    </tr>\n",
       "  </thead>\n",
       "  <tbody>\n",
       "    <tr>\n",
       "      <th>0</th>\n",
       "      <td>0.386916</td>\n",
       "      <td>0.901139</td>\n",
       "      <td>0.689932</td>\n",
       "      <td>0.704373</td>\n",
       "      <td>0.616586</td>\n",
       "      <td>0.812935</td>\n",
       "    </tr>\n",
       "    <tr>\n",
       "      <th>1</th>\n",
       "      <td>0.198840</td>\n",
       "      <td>0.071192</td>\n",
       "      <td>0.909556</td>\n",
       "      <td>0.677785</td>\n",
       "      <td>0.627043</td>\n",
       "      <td>0.723153</td>\n",
       "    </tr>\n",
       "    <tr>\n",
       "      <th>2</th>\n",
       "      <td>0.311166</td>\n",
       "      <td>0.645501</td>\n",
       "      <td>0.467750</td>\n",
       "      <td>0.807605</td>\n",
       "      <td>0.132011</td>\n",
       "      <td>0.948964</td>\n",
       "    </tr>\n",
       "    <tr>\n",
       "      <th>3</th>\n",
       "      <td>0.885139</td>\n",
       "      <td>0.276810</td>\n",
       "      <td>0.425945</td>\n",
       "      <td>0.475572</td>\n",
       "      <td>0.501187</td>\n",
       "      <td>0.321622</td>\n",
       "    </tr>\n",
       "  </tbody>\n",
       "</table>\n",
       "</div>"
      ],
      "text/plain": [
       "          0         1         2         3         4         5\n",
       "0  0.386916  0.901139  0.689932  0.704373  0.616586  0.812935\n",
       "1  0.198840  0.071192  0.909556  0.677785  0.627043  0.723153\n",
       "2  0.311166  0.645501  0.467750  0.807605  0.132011  0.948964\n",
       "3  0.885139  0.276810  0.425945  0.475572  0.501187  0.321622"
      ]
     },
     "execution_count": 60,
     "metadata": {},
     "output_type": "execute_result"
    }
   ],
   "source": [
    "df8"
   ]
  },
  {
   "cell_type": "code",
   "execution_count": 61,
   "id": "004c1349-f19c-4b13-a9fd-ef1947330718",
   "metadata": {},
   "outputs": [
    {
     "data": {
      "text/html": [
       "<div>\n",
       "<style scoped>\n",
       "    .dataframe tbody tr th:only-of-type {\n",
       "        vertical-align: middle;\n",
       "    }\n",
       "\n",
       "    .dataframe tbody tr th {\n",
       "        vertical-align: top;\n",
       "    }\n",
       "\n",
       "    .dataframe thead th {\n",
       "        text-align: right;\n",
       "    }\n",
       "</style>\n",
       "<table border=\"1\" class=\"dataframe\">\n",
       "  <thead>\n",
       "    <tr style=\"text-align: right;\">\n",
       "      <th></th>\n",
       "      <th>0</th>\n",
       "      <th>1</th>\n",
       "      <th>2</th>\n",
       "      <th>3</th>\n",
       "      <th>4</th>\n",
       "      <th>5</th>\n",
       "    </tr>\n",
       "  </thead>\n",
       "  <tbody>\n",
       "    <tr>\n",
       "      <th>0</th>\n",
       "      <td>0.386916</td>\n",
       "      <td>0.901139</td>\n",
       "      <td>0.689932</td>\n",
       "      <td>0.704373</td>\n",
       "      <td>0.616586</td>\n",
       "      <td>0.812935</td>\n",
       "    </tr>\n",
       "    <tr>\n",
       "      <th>1</th>\n",
       "      <td>0.198840</td>\n",
       "      <td>0.071192</td>\n",
       "      <td>0.909556</td>\n",
       "      <td>0.677785</td>\n",
       "      <td>0.627043</td>\n",
       "      <td>0.723153</td>\n",
       "    </tr>\n",
       "  </tbody>\n",
       "</table>\n",
       "</div>"
      ],
      "text/plain": [
       "          0         1         2         3         4         5\n",
       "0  0.386916  0.901139  0.689932  0.704373  0.616586  0.812935\n",
       "1  0.198840  0.071192  0.909556  0.677785  0.627043  0.723153"
      ]
     },
     "execution_count": 61,
     "metadata": {},
     "output_type": "execute_result"
    }
   ],
   "source": [
    "df8.head(2)"
   ]
  },
  {
   "cell_type": "code",
   "execution_count": 62,
   "id": "c0cb6bf1-7a7d-4155-a9a1-44eb1e6213ae",
   "metadata": {},
   "outputs": [
    {
     "data": {
      "text/plain": [
       "array([[0.38691613, 0.90113854, 0.68993171, 0.70437257, 0.61658639,\n",
       "        0.81293549],\n",
       "       [0.19883989, 0.07119172, 0.90955642, 0.67778546, 0.62704278,\n",
       "        0.72315255],\n",
       "       [0.31116581, 0.64550117, 0.46775006, 0.80760548, 0.13201141,\n",
       "        0.94896394],\n",
       "       [0.88513888, 0.2768097 , 0.42594548, 0.47557204, 0.5011867 ,\n",
       "        0.32162153]])"
      ]
     },
     "execution_count": 62,
     "metadata": {},
     "output_type": "execute_result"
    }
   ],
   "source": [
    "df8.to_numpy()"
   ]
  },
  {
   "cell_type": "code",
   "execution_count": 63,
   "id": "4230bccf-123a-48bb-afa2-6c8119996ad4",
   "metadata": {},
   "outputs": [],
   "source": [
    "df8.loc[2,4] = 234"
   ]
  },
  {
   "cell_type": "code",
   "execution_count": 64,
   "id": "efef232b-c8a8-4f0d-b088-d211dfc2fbbc",
   "metadata": {},
   "outputs": [
    {
     "data": {
      "text/html": [
       "<div>\n",
       "<style scoped>\n",
       "    .dataframe tbody tr th:only-of-type {\n",
       "        vertical-align: middle;\n",
       "    }\n",
       "\n",
       "    .dataframe tbody tr th {\n",
       "        vertical-align: top;\n",
       "    }\n",
       "\n",
       "    .dataframe thead th {\n",
       "        text-align: right;\n",
       "    }\n",
       "</style>\n",
       "<table border=\"1\" class=\"dataframe\">\n",
       "  <thead>\n",
       "    <tr style=\"text-align: right;\">\n",
       "      <th></th>\n",
       "      <th>0</th>\n",
       "      <th>1</th>\n",
       "      <th>2</th>\n",
       "      <th>3</th>\n",
       "      <th>4</th>\n",
       "      <th>5</th>\n",
       "    </tr>\n",
       "  </thead>\n",
       "  <tbody>\n",
       "    <tr>\n",
       "      <th>0</th>\n",
       "      <td>0.386916</td>\n",
       "      <td>0.901139</td>\n",
       "      <td>0.689932</td>\n",
       "      <td>0.704373</td>\n",
       "      <td>0.616586</td>\n",
       "      <td>0.812935</td>\n",
       "    </tr>\n",
       "    <tr>\n",
       "      <th>1</th>\n",
       "      <td>0.198840</td>\n",
       "      <td>0.071192</td>\n",
       "      <td>0.909556</td>\n",
       "      <td>0.677785</td>\n",
       "      <td>0.627043</td>\n",
       "      <td>0.723153</td>\n",
       "    </tr>\n",
       "    <tr>\n",
       "      <th>2</th>\n",
       "      <td>0.311166</td>\n",
       "      <td>0.645501</td>\n",
       "      <td>0.467750</td>\n",
       "      <td>0.807605</td>\n",
       "      <td>234.000000</td>\n",
       "      <td>0.948964</td>\n",
       "    </tr>\n",
       "    <tr>\n",
       "      <th>3</th>\n",
       "      <td>0.885139</td>\n",
       "      <td>0.276810</td>\n",
       "      <td>0.425945</td>\n",
       "      <td>0.475572</td>\n",
       "      <td>0.501187</td>\n",
       "      <td>0.321622</td>\n",
       "    </tr>\n",
       "  </tbody>\n",
       "</table>\n",
       "</div>"
      ],
      "text/plain": [
       "          0         1         2         3           4         5\n",
       "0  0.386916  0.901139  0.689932  0.704373    0.616586  0.812935\n",
       "1  0.198840  0.071192  0.909556  0.677785    0.627043  0.723153\n",
       "2  0.311166  0.645501  0.467750  0.807605  234.000000  0.948964\n",
       "3  0.885139  0.276810  0.425945  0.475572    0.501187  0.321622"
      ]
     },
     "execution_count": 64,
     "metadata": {},
     "output_type": "execute_result"
    }
   ],
   "source": [
    "df8"
   ]
  },
  {
   "cell_type": "code",
   "execution_count": 65,
   "id": "c1422a8d-b9ee-42e3-bfbf-c2f8936c786a",
   "metadata": {},
   "outputs": [],
   "source": [
    "df8.columns = list(\"abcdef\")"
   ]
  },
  {
   "cell_type": "code",
   "execution_count": 66,
   "id": "4166c51b-19aa-4dcf-a3c0-33d276b7a2b8",
   "metadata": {},
   "outputs": [
    {
     "data": {
      "text/html": [
       "<div>\n",
       "<style scoped>\n",
       "    .dataframe tbody tr th:only-of-type {\n",
       "        vertical-align: middle;\n",
       "    }\n",
       "\n",
       "    .dataframe tbody tr th {\n",
       "        vertical-align: top;\n",
       "    }\n",
       "\n",
       "    .dataframe thead th {\n",
       "        text-align: right;\n",
       "    }\n",
       "</style>\n",
       "<table border=\"1\" class=\"dataframe\">\n",
       "  <thead>\n",
       "    <tr style=\"text-align: right;\">\n",
       "      <th></th>\n",
       "      <th>a</th>\n",
       "      <th>b</th>\n",
       "      <th>c</th>\n",
       "      <th>d</th>\n",
       "      <th>e</th>\n",
       "      <th>f</th>\n",
       "    </tr>\n",
       "  </thead>\n",
       "  <tbody>\n",
       "    <tr>\n",
       "      <th>0</th>\n",
       "      <td>0.386916</td>\n",
       "      <td>0.901139</td>\n",
       "      <td>0.689932</td>\n",
       "      <td>0.704373</td>\n",
       "      <td>0.616586</td>\n",
       "      <td>0.812935</td>\n",
       "    </tr>\n",
       "    <tr>\n",
       "      <th>1</th>\n",
       "      <td>0.198840</td>\n",
       "      <td>0.071192</td>\n",
       "      <td>0.909556</td>\n",
       "      <td>0.677785</td>\n",
       "      <td>0.627043</td>\n",
       "      <td>0.723153</td>\n",
       "    </tr>\n",
       "    <tr>\n",
       "      <th>2</th>\n",
       "      <td>0.311166</td>\n",
       "      <td>0.645501</td>\n",
       "      <td>0.467750</td>\n",
       "      <td>0.807605</td>\n",
       "      <td>234.000000</td>\n",
       "      <td>0.948964</td>\n",
       "    </tr>\n",
       "    <tr>\n",
       "      <th>3</th>\n",
       "      <td>0.885139</td>\n",
       "      <td>0.276810</td>\n",
       "      <td>0.425945</td>\n",
       "      <td>0.475572</td>\n",
       "      <td>0.501187</td>\n",
       "      <td>0.321622</td>\n",
       "    </tr>\n",
       "  </tbody>\n",
       "</table>\n",
       "</div>"
      ],
      "text/plain": [
       "          a         b         c         d           e         f\n",
       "0  0.386916  0.901139  0.689932  0.704373    0.616586  0.812935\n",
       "1  0.198840  0.071192  0.909556  0.677785    0.627043  0.723153\n",
       "2  0.311166  0.645501  0.467750  0.807605  234.000000  0.948964\n",
       "3  0.885139  0.276810  0.425945  0.475572    0.501187  0.321622"
      ]
     },
     "execution_count": 66,
     "metadata": {},
     "output_type": "execute_result"
    }
   ],
   "source": [
    "df8"
   ]
  },
  {
   "cell_type": "code",
   "execution_count": 67,
   "id": "8fd6c39e-8fb2-4c52-9ee1-63ec8832a806",
   "metadata": {},
   "outputs": [
    {
     "data": {
      "text/html": [
       "<div>\n",
       "<style scoped>\n",
       "    .dataframe tbody tr th:only-of-type {\n",
       "        vertical-align: middle;\n",
       "    }\n",
       "\n",
       "    .dataframe tbody tr th {\n",
       "        vertical-align: top;\n",
       "    }\n",
       "\n",
       "    .dataframe thead th {\n",
       "        text-align: right;\n",
       "    }\n",
       "</style>\n",
       "<table border=\"1\" class=\"dataframe\">\n",
       "  <thead>\n",
       "    <tr style=\"text-align: right;\">\n",
       "      <th></th>\n",
       "      <th>a</th>\n",
       "      <th>b</th>\n",
       "      <th>c</th>\n",
       "      <th>d</th>\n",
       "      <th>e</th>\n",
       "      <th>f</th>\n",
       "    </tr>\n",
       "  </thead>\n",
       "  <tbody>\n",
       "    <tr>\n",
       "      <th>0</th>\n",
       "      <td>0.386916</td>\n",
       "      <td>0.901139</td>\n",
       "      <td>0.689932</td>\n",
       "      <td>0.704373</td>\n",
       "      <td>0.616586</td>\n",
       "      <td>0.812935</td>\n",
       "    </tr>\n",
       "    <tr>\n",
       "      <th>2</th>\n",
       "      <td>0.311166</td>\n",
       "      <td>0.645501</td>\n",
       "      <td>0.467750</td>\n",
       "      <td>0.807605</td>\n",
       "      <td>234.000000</td>\n",
       "      <td>0.948964</td>\n",
       "    </tr>\n",
       "    <tr>\n",
       "      <th>3</th>\n",
       "      <td>0.885139</td>\n",
       "      <td>0.276810</td>\n",
       "      <td>0.425945</td>\n",
       "      <td>0.475572</td>\n",
       "      <td>0.501187</td>\n",
       "      <td>0.321622</td>\n",
       "    </tr>\n",
       "  </tbody>\n",
       "</table>\n",
       "</div>"
      ],
      "text/plain": [
       "          a         b         c         d           e         f\n",
       "0  0.386916  0.901139  0.689932  0.704373    0.616586  0.812935\n",
       "2  0.311166  0.645501  0.467750  0.807605  234.000000  0.948964\n",
       "3  0.885139  0.276810  0.425945  0.475572    0.501187  0.321622"
      ]
     },
     "execution_count": 67,
     "metadata": {},
     "output_type": "execute_result"
    }
   ],
   "source": [
    "df8.drop(1)"
   ]
  },
  {
   "cell_type": "code",
   "execution_count": 68,
   "id": "a94d85de-40a6-4b1e-b3ba-4c14979f8efe",
   "metadata": {},
   "outputs": [],
   "source": [
    "list3 = [1,2,3,4]"
   ]
  },
  {
   "cell_type": "code",
   "execution_count": 72,
   "id": "4ed0e136-dea9-450e-8254-0f1678999e7d",
   "metadata": {},
   "outputs": [],
   "source": [
    "df8 = pd.Series(list3)"
   ]
  },
  {
   "cell_type": "code",
   "execution_count": 73,
   "id": "839f5ddb-8a62-4917-886d-b185a6bd5831",
   "metadata": {},
   "outputs": [],
   "source": [
    "list = [5,6,7,8]"
   ]
  },
  {
   "cell_type": "code",
   "execution_count": 74,
   "id": "3b38b186-b8d9-41cc-9ad4-e394f02ae57c",
   "metadata": {},
   "outputs": [],
   "source": [
    "df9 = pd.Series(list)"
   ]
  },
  {
   "cell_type": "code",
   "execution_count": 83,
   "id": "94dc8c2b-a2f5-4705-a7bb-e633a3c6c8f1",
   "metadata": {},
   "outputs": [],
   "source": [
    "mydict = {\"roll no\" : list3, \"payment\" : list}"
   ]
  },
  {
   "cell_type": "code",
   "execution_count": 85,
   "id": "641a9810-1415-41d0-89da-8bc3542decfd",
   "metadata": {},
   "outputs": [],
   "source": [
    "df10  = pd.DataFrame(mydict , index = np.arange(4))"
   ]
  },
  {
   "cell_type": "code",
   "execution_count": 86,
   "id": "0adcf7af-508f-4d18-b96a-8a595fcf7f3b",
   "metadata": {},
   "outputs": [
    {
     "name": "stdout",
     "output_type": "stream",
     "text": [
      "   roll no  payment\n",
      "0        1        5\n",
      "1        2        6\n",
      "2        3        7\n",
      "3        4        8\n"
     ]
    }
   ],
   "source": [
    "print(df10)"
   ]
  },
  {
   "cell_type": "code",
   "execution_count": null,
   "id": "9a232375-ced5-4611-b9a0-4d2e372fb7e9",
   "metadata": {},
   "outputs": [],
   "source": []
  }
 ],
 "metadata": {
  "kernelspec": {
   "display_name": "Python 3 (ipykernel)",
   "language": "python",
   "name": "python3"
  },
  "language_info": {
   "codemirror_mode": {
    "name": "ipython",
    "version": 3
   },
   "file_extension": ".py",
   "mimetype": "text/x-python",
   "name": "python",
   "nbconvert_exporter": "python",
   "pygments_lexer": "ipython3",
   "version": "3.12.7"
  }
 },
 "nbformat": 4,
 "nbformat_minor": 5
}
